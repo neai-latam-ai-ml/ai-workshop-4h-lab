{
 "cells": [
  {
   "cell_type": "markdown",
   "id": "d544524b-cb3b-447d-80ae-b55f757ec37d",
   "metadata": {},
   "source": [
    "# Generative AI: RAG & AI Agents\n",
    "# Inferencig LLMs with LangChain "
   ]
  },
  {
   "cell_type": "code",
   "execution_count": null,
   "id": "9d21dfdf-56a8-4d4d-8ebe-bef3fdfd4cf5",
   "metadata": {},
   "outputs": [],
   "source": [
    "!pip install -q langchain langchain_aws"
   ]
  },
  {
   "cell_type": "code",
   "execution_count": 2,
   "id": "63a57ec1-dae9-4c3d-a475-4cbf4f77be1e",
   "metadata": {},
   "outputs": [],
   "source": [
    "from langchain_aws import ChatBedrock\n",
    "llm = ChatBedrock(\n",
    "    model_id=\"us.anthropic.claude-3-7-sonnet-20250219-v1:0\",\n",
    "    model_kwargs=dict(temperature=0),\n",
    "    region=\"us-east-1\"\n",
    ")"
   ]
  },
  {
   "cell_type": "code",
   "execution_count": 3,
   "id": "20f2f1f4-bb0c-4c85-a1eb-6ec90b579e01",
   "metadata": {},
   "outputs": [
    {
     "data": {
      "text/plain": [
       "\"I'm Claude, an AI assistant created by Anthropic to be helpful, harmless, and honest. I can have conversations, answer questions, assist with various tasks like writing and analysis, and generate different kinds of content. I aim to be balanced, nuanced, and thoughtful in my responses. I have certain limitations - I don't have the ability to access the internet, run code, or interact with other systems unless specifically enabled to do so. How can I help you today?\""
      ]
     },
     "execution_count": 3,
     "metadata": {},
     "output_type": "execute_result"
    }
   ],
   "source": [
    "response = llm.invoke(\"Who are you?\")\n",
    "response.content"
   ]
  },
  {
   "cell_type": "markdown",
   "id": "9731b795-316c-451b-b009-6cbd32e0bfee",
   "metadata": {},
   "source": [
    "## Stateless"
   ]
  },
  {
   "cell_type": "code",
   "execution_count": 4,
   "id": "c498eed6-3736-45e8-a765-dc4e14806c94",
   "metadata": {},
   "outputs": [
    {
     "data": {
      "text/plain": [
       "\"Hello Cisco! It's nice to meet you. How are you doing today? Is there something I can help you with?\""
      ]
     },
     "execution_count": 4,
     "metadata": {},
     "output_type": "execute_result"
    }
   ],
   "source": [
    "response = llm.invoke(\"Hi! My name is Cisco\")\n",
    "response.content"
   ]
  },
  {
   "cell_type": "code",
   "execution_count": 5,
   "id": "d2d90abe-e99d-45ba-9deb-6ffc130330a8",
   "metadata": {},
   "outputs": [
    {
     "data": {
      "text/plain": [
       "\"I don't have information about your name from our conversation so far. We haven't been introduced yet. Would you like to share your name with me?\""
      ]
     },
     "execution_count": 5,
     "metadata": {},
     "output_type": "execute_result"
    }
   ],
   "source": [
    "response = llm.invoke(\"Hi! Do you remember my name\")\n",
    "response.content"
   ]
  },
  {
   "cell_type": "markdown",
   "id": "11f753d8-5343-4f70-a23e-5e1857e15887",
   "metadata": {},
   "source": [
    "## Role -  System Prompt"
   ]
  },
  {
   "cell_type": "code",
   "execution_count": 6,
   "id": "b223ff17-baa7-451e-9f41-544dbf6a26b0",
   "metadata": {},
   "outputs": [
    {
     "data": {
      "text/plain": [
       "'# Router\\n\\nA router is a networking device that forwards data packets between computer networks. It operates at the network layer (Layer 3) of the OSI model and performs the traffic directing functions on the internet.\\n\\n## Key Functions\\n\\n- **Packet Forwarding**: Examines the destination IP address of incoming packets and determines the best path to forward them\\n- **Network Segmentation**: Connects and manages traffic between different networks or subnets\\n- **NAT (Network Address Translation)**: Translates private IP addresses to public ones for internet connectivity\\n- **Firewall Capabilities**: Many routers include basic security features to filter traffic\\n\\n## Types of Routers\\n\\n- **Home/SOHO Routers**: For residential or small office use\\n- **Enterprise Routers**: High-performance devices for businesses\\n- **Core Routers**: Backbone devices for major internet traffic\\n- **Edge Routers**: Connect internal networks to external networks\\n\\nRouters use routing tables and protocols (like OSPF, BGP, EIGRP) to determine optimal paths for data transmission across networks.'"
      ]
     },
     "execution_count": 6,
     "metadata": {},
     "output_type": "execute_result"
    }
   ],
   "source": [
    "from langchain.schema import SystemMessage, HumanMessage\n",
    "messages = [\n",
    "    SystemMessage(content=\"You are a network troubleshooting expert.\"),\n",
    "    HumanMessage(content=\"What is a Router?\")\n",
    "]\n",
    "\n",
    "response = llm.invoke(messages)\n",
    "response.content"
   ]
  },
  {
   "cell_type": "code",
   "execution_count": 22,
   "id": "349d18f7-a346-437d-a5dd-fd2936e64976",
   "metadata": {},
   "outputs": [
    {
     "name": "stdout",
     "output_type": "stream",
     "text": [
      "A router is like a traffic director for your network. It connects different networks together and helps data find the best path to reach its destination.\n",
      "\n",
      "When you send something to the internet, your router figures out where it needs to go and sends it in the right direction. It also helps protect your network by acting as a gateway between your home or office devices and the outside world.\n",
      "\n",
      "Routers use IP addresses (like digital postal codes) to make sure information packets get delivered to the correct location. They're what allow multiple devices in your home to all use the internet at the same time.\n"
     ]
    }
   ],
   "source": [
    "messages = [\n",
    "    SystemMessage(content=\"You are a junior network engineer explaining concepts to a colleague who just started in networking. Avoid heavy technical jargon and keep answers short.\"),\n",
    "    HumanMessage(content=\"What is a Router?\")\n",
    "]\n",
    "\n",
    "response = llm.invoke(messages)\n",
    "print(response.content)"
   ]
  },
  {
   "cell_type": "code",
   "execution_count": 56,
   "id": "e0cd8831-a118-4987-abc9-6ee72e7f091c",
   "metadata": {},
   "outputs": [
    {
     "name": "stdout",
     "output_type": "stream",
     "text": [
      "A router is a crucial networking device that operates at the Network Layer (Layer 3) of the OSI model, facilitating the interconnection of multiple computer networks, thereby enabling data communication between them. Routers are responsible for routing traffic between networks, using network topology information to determine the optimal path for forwarding packets.\n",
      "\n",
      "From a theoretical perspective, routers implement the principles of graph theory, specifically the shortest path problem, to compute the most efficient routes for packet forwarding. This is achieved through the use of routing protocols, such as the Routing Information Protocol (RIP), Open Shortest Path First (OSPF), and Border Gateway Protocol (BGP), which enable routers to exchange topology information and construct routing tables.\n",
      "\n",
      "At the data link layer (Layer 2), routers use protocols like the Address Resolution Protocol (ARP) to resolve IP addresses to MAC addresses, allowing them to forward packets between networks. Routers also employ techniques like packet switching, where packets are stored and forwarded independently, to optimize network throughput and minimize latency.\n",
      "\n",
      "In terms of protocol support, routers typically implement the Internet Protocol (IP) suite, including IPv4 and IPv6, to facilitate communication between networks. They also support various transport-layer protocols, such as the Transmission Control Protocol (TCP) and User Datagram Protocol (UDP), to ensure reliable and efficient data transfer.\n",
      "\n",
      "The routing process involves several key steps:\n",
      "\n",
      "1. **Route discovery**: Routers exchange routing information with neighboring routers to build a topology map of the network.\n",
      "2. **Route selection**: Routers use routing algorithms, such as Dijkstra's algorithm or Bellman-Ford algorithm, to determine the shortest path to the destination network.\n",
      "3. **Packet forwarding**: Routers forward packets to the next hop on the path to the destination network, using the routing table to determine the optimal route.\n",
      "4. **Route maintenance**: Routers continuously update their routing tables to reflect changes in the network topology, ensuring that packets are forwarded along the most efficient path.\n",
      "\n",
      "In summary, a router is a complex networking device that operates at the intersection of graph theory, protocol design, and network architecture, enabling efficient and reliable data communication between multiple computer networks. Its functionality is rooted in the principles of packet switching, routing protocols, and network topology, making it an essential component of modern computer networks.\n"
     ]
    }
   ],
   "source": [
    "messages = [\n",
    "    SystemMessage(content=\"\"\"You are a PhD in computer networking explaining concepts in a technically precise and academically rigorous manner. \n",
    "                             Include relevant protocols, layers, and theoretical context.\"\"\"),\n",
    "    HumanMessage(content=\"What is a Router?\")\n",
    "]\n",
    "\n",
    "response = llm.invoke(messages)\n",
    "print(response.content)"
   ]
  },
  {
   "cell_type": "markdown",
   "id": "1b992495-434d-4bad-b639-a849a241c678",
   "metadata": {},
   "source": [
    "## Models' Capabilities (Parameters)"
   ]
  },
  {
   "cell_type": "code",
   "execution_count": 48,
   "id": "494dede4-e9b0-44e0-a748-23d4d9a52e35",
   "metadata": {},
   "outputs": [
    {
     "name": "stdout",
     "output_type": "stream",
     "text": [
      "Here's an example configuration for BGP on a Cisco IOS-XE device, following best practices:\n",
      "\n",
      "**Device:** Cisco IOS-XE 3000 Series Router (e.g. 3007V)\n",
      "\n",
      "**Network:** Let's assume we have two ASes, 65000 and 12345, and we want to exchange IP routes between them.\n",
      "\n",
      "**Configuration:**\n",
      "```iosxe\n",
      "hostname RouterA\n",
      "!\n",
      "version 15.0\n",
      "!\n",
      "no service page-text\n",
      "no service timestamps debug uptime\n",
      "no service timestamps log uptime\n",
      "!\n",
      "ip cef\n",
      "!\n",
      "bgp log-neighbor-changes\n",
      "!\n",
      "bgp router-id 10.1.1.1\n",
      "!\n",
      "address-family ipv4 unicast\n",
      "  neighbor 10.1.1.2 remote-as 12345\n",
      "  neighbor 10.1.1.3 remote-as 65000\n",
      "  neighbor 10.1.1.2 update-source loopback0\n",
      "  neighbor 10.1.1.3 update-source loopback0\n",
      "!\n",
      "address-family ipv4 multicast\n",
      "  neighbor 10.1.1.2 remote-as 12345\n",
      "  neighbor 10.1.1.3 remote-as 65000\n",
      "  neighbor 10.1.1.2 update-source loopback0\n",
      "  neighbor 10.1.1.3 update-source loopback0\n",
      "!\n",
      "address-family ipv6 unicast\n",
      "  neighbor 2001:db8::1 remote-as 12345\n",
      "  neighbor 2001:db8::2 remote-as 65000\n",
      "  neighbor 2001:db8::1 update-source loopback0\n",
      "  neighbor 2001:db8::2 update-source loopback0\n",
      "!\n",
      "!\n",
      "```\n",
      "**Explanation:**\n",
      "\n",
      "1. **hostname**: Set the hostname of the device to \"RouterA\".\n",
      "2. **version**: Set the IOS-XE version to 15.0.\n",
      "3. **no service page-text**: Disable the page-text feature, which displays debug information on the console.\n",
      "4. **no service timestamps debug uptime**: Disable the timestamps for debug messages.\n",
      "5. **no service timestamps log uptime**: Disable the timestamps for log messages.\n",
      "6. **ip cef**: Enable IP CEF (Cisco Express Forwarding) to improve routing performance.\n",
      "7. **bgp log-neighbor-changes**: Enable BGP log-neighbor-changes to display the neighbors that have changed.\n",
      "8. **bgp router-id**: Set the BGP router ID to 10\n"
     ]
    }
   ],
   "source": [
    "llm = ChatBedrock(\n",
    "    model_id=\"us.meta.llama3-2-3b-instruct-v1:0\",\n",
    "    model_kwargs=dict(temperature=0),\n",
    "    region=\"us-east-1\"\n",
    ")\n",
    "\n",
    "messages = [\n",
    "    SystemMessage(content=\"\"\"You are an expert in computer networking.\n",
    "                             Explain answers with the right level of detail for the audience described\"\"\"),\n",
    "    HumanMessage(content=\"Give me an example to configure BGP on a IOS-XE devices following best practices\")\n",
    "]\n",
    "\n",
    "response = llm.invoke(messages)\n",
    "print(response.content)"
   ]
  },
  {
   "cell_type": "code",
   "execution_count": 50,
   "id": "50207c3a-8d1d-4099-a1c0-a684889db070",
   "metadata": {},
   "outputs": [
    {
     "name": "stdout",
     "output_type": "stream",
     "text": [
      "Configuring BGP (Border Gateway Protocol) on a Cisco IOS-XE device involves several steps, including enabling BGP, configuring neighbors, and setting up route filtering and advertisement. Here's an example configuration that follows best practices for a basic setup. This example assumes you have a basic understanding of networking concepts and are familiar with the Cisco IOS command-line interface.\n",
      "\n",
      "### Step 1: Enable BGP\n",
      "\n",
      "First, you need to enable BGP on your router. This is done by specifying the autonomous system number (ASN) that your router belongs to.\n",
      "\n",
      "```plaintext\n",
      "Router# configure terminal\n",
      "Router(config)# router bgp 100\n",
      "Router(config-router)#\n",
      "```\n",
      "\n",
      "In this example, `100` is the ASN. Replace it with your actual ASN.\n",
      "\n",
      "### Step 2: Configure BGP Neighbors\n",
      "\n",
      "Next, you'll configure your BGP neighbors. These are the devices with which your router will exchange routing information.\n",
      "\n",
      "```plaintext\n",
      "Router(config-router)# neighbor 10.0.0.2 remote-as 200\n",
      "Router(config-router)# neighbor 10.0.0.2 description Neighbor-to-ISP\n",
      "Router(config-router)# neighbor 10.0.0.2 update-source GigabitEthernet1\n",
      "```\n",
      "\n",
      "- `10.0.0.2` is the IP address of the neighbor.\n",
      "- `200` is the ASN of the neighbor.\n",
      "- The `description` command is used to add a descriptive note about the neighbor, which is helpful for management and troubleshooting.\n",
      "- `update-source` specifies the interface from which the BGP updates will be sent to the neighbor.\n",
      "\n",
      "### Step 3: Configure Route Filtering\n",
      "\n",
      "To control which routes are advertised to or accepted from neighbors, you can use route maps or prefix lists. Here's an example using a prefix list to only accept routes from a specific subnet:\n",
      "\n",
      "```plaintext\n",
      "Router(config)# ip prefix-list ALLOWED_ROUTES permit 192.168.1.0/24\n",
      "Router(config)# route-map ACCEPT_ROUTES permit 10\n",
      "Router(config-route-map)# match ip address prefix-list ALLOWED_ROUTES\n",
      "Router(config-route-map)# exit\n",
      "Router(config)# router bgp 100\n",
      "Router(config-router)# neighbor 10.0.0.2 route-map ACCEPT_ROUTES in\n",
      "```\n",
      "\n",
      "This configuration creates a prefix list named `ALLOWED_ROUTES` that permits the `192.168.1.0/24` subnet and applies a route map named `ACCEPT_ROUTES` to the neighbor `10.0.0.2`\n"
     ]
    }
   ],
   "source": [
    "llm = ChatBedrock(\n",
    "    model_id=\"us.meta.llama3-3-70b-instruct-v1:0\",\n",
    "    model_kwargs=dict(temperature=0),\n",
    "    region=\"us-east-1\"\n",
    ")\n",
    "\n",
    "messages = [\n",
    "    SystemMessage(content=\"\"\"You are an expert in computer networking.\n",
    "                             Explain answers with the right level of detail for the audience described\"\"\"),\n",
    "    HumanMessage(content=\"Give me an example to configure BGP on a IOS-XE devices following best practices\")\n",
    "]\n",
    "\n",
    "response = llm.invoke(messages)\n",
    "print(response.content)"
   ]
  },
  {
   "cell_type": "markdown",
   "id": "ebc16fea-400e-4029-a89c-986b14bfd213",
   "metadata": {},
   "source": [
    "## Knowledge Cutoff"
   ]
  },
  {
   "cell_type": "code",
   "execution_count": 52,
   "id": "e6594aff-e07e-46e5-b085-71d2c23dcbb7",
   "metadata": {},
   "outputs": [
    {
     "data": {
      "text/plain": [
       "\"The latest version of Cisco DNA Center is 2.3.2.1, which was released in August 2022. However, please note that Cisco frequently releases new versions and updates, so it's always best to check the official Cisco website or contact Cisco support for the most up-to-date information.\\n\\nCisco DNA Center is a software-defined networking (SDN) solution that provides a centralized platform for managing and orchestrating network services, including network automation, assurance, and security. The latest version of Cisco DNA Center includes new features and enhancements, such as:\\n\\n* Improved network automation and orchestration capabilities\\n* Enhanced security features, including threat detection and response\\n* Better visibility and analytics for network performance and troubleshooting\\n* Support for new devices and platforms, including Wi-Fi 6 and 5G\\n* Integration with other Cisco solutions, such as Cisco ISE and Cisco Umbrella\\n\\nTo get the latest information on Cisco DNA Center, including the latest version and release notes, you can visit the Cisco website or contact Cisco support.\""
      ]
     },
     "execution_count": 52,
     "metadata": {},
     "output_type": "execute_result"
    }
   ],
   "source": [
    "response = llm.invoke(\"What is the latest version of the Cisco DNA Center\")\n",
    "response.content"
   ]
  }
 ],
 "metadata": {
  "kernelspec": {
   "display_name": "Python 3 (ipykernel)",
   "language": "python",
   "name": "python3"
  },
  "language_info": {
   "codemirror_mode": {
    "name": "ipython",
    "version": 3
   },
   "file_extension": ".py",
   "mimetype": "text/x-python",
   "name": "python",
   "nbconvert_exporter": "python",
   "pygments_lexer": "ipython3",
   "version": "3.11.5"
  }
 },
 "nbformat": 4,
 "nbformat_minor": 5
}
