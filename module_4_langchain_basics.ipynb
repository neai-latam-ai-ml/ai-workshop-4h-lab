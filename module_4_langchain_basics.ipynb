{
 "cells": [
  {
   "cell_type": "markdown",
   "id": "d544524b-cb3b-447d-80ae-b55f757ec37d",
   "metadata": {},
   "source": [
    "# Generative AI: RAG & AI Agents\n",
    "# Inferencig LLMs with LangChain "
   ]
  },
  {
   "cell_type": "code",
   "execution_count": null,
   "id": "9d21dfdf-56a8-4d4d-8ebe-bef3fdfd4cf5",
   "metadata": {},
   "outputs": [],
   "source": [
    "!pip install -q langchain langchain_aws langchain_openai dotenv"
   ]
  },
  {
   "cell_type": "code",
   "execution_count": null,
   "id": "63a57ec1-dae9-4c3d-a475-4cbf4f77be1e",
   "metadata": {},
   "outputs": [],
   "source": [
    "from langchain_aws import ChatBedrock\n",
    "from langchain_openai import ChatOpenAI\n",
    "from dotenv import load_dotenv\n",
    "import os\n",
    "load_dotenv()\n",
    "\n",
    "\n",
    "# llm = ChatBedrock(\n",
    "#     model_id=\"us.anthropic.claude-3-7-sonnet-20250219-v1:0\",\n",
    "#     model_kwargs=dict(temperature=0),\n",
    "#     region=\"us-east-1\"\n",
    "# )\n",
    "\n",
    "\n",
    "llm = ChatOpenAI(\n",
    "    model=\"meta-llama/Llama-3.1-8B-Instruct\",  \n",
    "    openai_api_base=f\"http://{os.getenv('MODEL_IP')}:8000/v1\",\n",
    "    openai_api_key=\"EMPTY\"  # vLLM doesn’t require real keys\n",
    ")\n"
   ]
  },
  {
   "cell_type": "code",
   "execution_count": null,
   "id": "20f2f1f4-bb0c-4c85-a1eb-6ec90b579e01",
   "metadata": {},
   "outputs": [],
   "source": [
    "response = llm.invoke(\"Who are you?\")\n",
    "print(response.content)"
   ]
  },
  {
   "cell_type": "markdown",
   "id": "9731b795-316c-451b-b009-6cbd32e0bfee",
   "metadata": {},
   "source": [
    "## Stateless"
   ]
  },
  {
   "cell_type": "code",
   "execution_count": null,
   "id": "c498eed6-3736-45e8-a765-dc4e14806c94",
   "metadata": {},
   "outputs": [],
   "source": [
    "response = llm.invoke(\"Hi! My name is Cisco\")\n",
    "print(response.content)"
   ]
  },
  {
   "cell_type": "code",
   "execution_count": null,
   "id": "d2d90abe-e99d-45ba-9deb-6ffc130330a8",
   "metadata": {},
   "outputs": [],
   "source": [
    "response = llm.invoke(\"Hi! Do you remember my name\")\n",
    "print(response.content)"
   ]
  },
  {
   "cell_type": "markdown",
   "id": "11f753d8-5343-4f70-a23e-5e1857e15887",
   "metadata": {},
   "source": [
    "## Role -  System Prompt"
   ]
  },
  {
   "cell_type": "code",
   "execution_count": null,
   "id": "349d18f7-a346-437d-a5dd-fd2936e64976",
   "metadata": {},
   "outputs": [],
   "source": [
    "messages = [\n",
    "    SystemMessage(content=\"You are a junior network engineer explaining concepts to a colleague who just started in networking. Avoid heavy technical jargon and keep answers short.\"),\n",
    "    HumanMessage(content=\"What is a Router?\")\n",
    "]\n",
    "\n",
    "response = llm.invoke(messages)\n",
    "print(response.content)"
   ]
  },
  {
   "cell_type": "code",
   "execution_count": null,
   "id": "e0cd8831-a118-4987-abc9-6ee72e7f091c",
   "metadata": {},
   "outputs": [],
   "source": [
    "messages = [\n",
    "    SystemMessage(content=\"\"\"You are a PhD in computer networking explaining concepts in a technically precise and academically rigorous manner. \n",
    "                             Include relevant protocols, layers, and theoretical context.\"\"\"),\n",
    "    HumanMessage(content=\"What is a Router?\")\n",
    "]\n",
    "\n",
    "response = llm.invoke(messages)\n",
    "print(response.content)"
   ]
  },
  {
   "cell_type": "markdown",
   "id": "ebc16fea-400e-4029-a89c-986b14bfd213",
   "metadata": {},
   "source": [
    "## Knowledge Cutoff"
   ]
  },
  {
   "cell_type": "code",
   "execution_count": null,
   "id": "e6594aff-e07e-46e5-b085-71d2c23dcbb7",
   "metadata": {},
   "outputs": [],
   "source": [
    "response = llm.invoke(\"What is the latest version of the Cisco DNA Center\")\n",
    "print(response.content)"
   ]
  },
  {
   "cell_type": "code",
   "execution_count": null,
   "id": "a02eefaa-a8a8-42d3-b9e5-9bdeba1f20a9",
   "metadata": {},
   "outputs": [],
   "source": []
  }
 ],
 "metadata": {
  "kernelspec": {
   "display_name": "Python 3 (ipykernel)",
   "language": "python",
   "name": "python3"
  },
  "language_info": {
   "codemirror_mode": {
    "name": "ipython",
    "version": 3
   },
   "file_extension": ".py",
   "mimetype": "text/x-python",
   "name": "python",
   "nbconvert_exporter": "python",
   "pygments_lexer": "ipython3",
   "version": "3.11.5"
  }
 },
 "nbformat": 4,
 "nbformat_minor": 5
}
