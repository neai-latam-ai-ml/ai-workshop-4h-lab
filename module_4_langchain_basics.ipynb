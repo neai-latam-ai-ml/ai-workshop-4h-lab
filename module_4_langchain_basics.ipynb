{
 "cells": [
  {
   "cell_type": "markdown",
   "id": "d544524b-cb3b-447d-80ae-b55f757ec37d",
   "metadata": {},
   "source": [
    "# Generative AI: RAG & AI Agents\n",
    "# Inferencig LLMs with LangChain "
   ]
  },
  {
   "cell_type": "code",
   "execution_count": null,
   "id": "9d21dfdf-56a8-4d4d-8ebe-bef3fdfd4cf5",
   "metadata": {},
   "outputs": [],
   "source": [
    "!pip install -q langchain langchain_aws langchain_openai dotenv"
   ]
  },
  {
   "cell_type": "code",
   "execution_count": null,
   "id": "63a57ec1-dae9-4c3d-a475-4cbf4f77be1e",
   "metadata": {},
   "outputs": [],
   "source": [
    "from langchain_aws import ChatBedrock\n",
    "from langchain_openai import ChatOpenAI\n",
    "from dotenv import load_dotenv\n",
    "import os\n",
    "load_dotenv()\n",
    "\n",
    "\n",
    "# llm = ChatBedrock(\n",
    "#     model_id=\"us.anthropic.claude-3-7-sonnet-20250219-v1:0\",\n",
    "#     model_kwargs=dict(temperature=0),\n",
    "#     region=\"us-east-1\"\n",
    "# )\n",
    "\n",
    "\n",
    "llm = ChatOpenAI(\n",
    "    model=\"meta-llama/Llama-3.1-8B-Instruct\",  \n",
    "    openai_api_base=f\"http://{os.getenv('LLM_IP')}:8000/v1\",\n",
    "    openai_api_key=\"EMPTY\"  # vLLM doesn’t require real keys\n",
    ")\n"
   ]
  },
  {
   "cell_type": "code",
   "execution_count": 14,
   "id": "20f2f1f4-bb0c-4c85-a1eb-6ec90b579e01",
   "metadata": {},
   "outputs": [
    {
     "name": "stdout",
     "output_type": "stream",
     "text": [
      "I'm an artificial intelligence model known as a large language model (LLM) or a conversational AI. I'm a computer program designed to understand and generate human-like text based on the input I receive. I'm here to assist and communicate with you in a helpful and informative way.\n",
      "\n",
      "I can provide information on a wide range of topics, from science and history to entertainment and culture. I can also help with tasks such as language translation, text summarization, and even generating creative writing or dialogue.\n",
      "\n",
      "I'm constantly learning and improving my abilities through machine learning algorithms and large datasets of text. This allows me to stay up-to-date with the latest knowledge and trends, and to provide accurate and helpful responses to your questions.\n",
      "\n",
      "So, what would you like to talk about or ask me? I'm here to help!\n"
     ]
    }
   ],
   "source": [
    "response = llm.invoke(\"Who are you?\")\n",
    "print(response.content)"
   ]
  },
  {
   "cell_type": "markdown",
   "id": "9731b795-316c-451b-b009-6cbd32e0bfee",
   "metadata": {},
   "source": [
    "## Stateless"
   ]
  },
  {
   "cell_type": "code",
   "execution_count": 15,
   "id": "c498eed6-3736-45e8-a765-dc4e14806c94",
   "metadata": {},
   "outputs": [
    {
     "name": "stdout",
     "output_type": "stream",
     "text": [
      "Nice to meet you, Cisco. Is there something I can help you with or would you like to chat?\n"
     ]
    }
   ],
   "source": [
    "response = llm.invoke(\"Hi! My name is Cisco\")\n",
    "print(response.content)"
   ]
  },
  {
   "cell_type": "code",
   "execution_count": 16,
   "id": "d2d90abe-e99d-45ba-9deb-6ffc130330a8",
   "metadata": {},
   "outputs": [
    {
     "name": "stdout",
     "output_type": "stream",
     "text": [
      "I'm afraid I'm a large language model, I don't have the ability to remember individual users or their names. Each time you interact with me, it's a new conversation and I don't retain any information from previous conversations. I'm here to help with any questions or topics you'd like to discuss, though! What's on your mind today?\n"
     ]
    }
   ],
   "source": [
    "response = llm.invoke(\"Hi! Do you remember my name\")\n",
    "print(response.content)"
   ]
  },
  {
   "cell_type": "markdown",
   "id": "11f753d8-5343-4f70-a23e-5e1857e15887",
   "metadata": {},
   "source": [
    "## Role -  System Prompt"
   ]
  },
  {
   "cell_type": "code",
   "execution_count": 17,
   "id": "349d18f7-a346-437d-a5dd-fd2936e64976",
   "metadata": {},
   "outputs": [
    {
     "name": "stdout",
     "output_type": "stream",
     "text": [
      "A router is a device that connects multiple networks together. It helps send data from one network to another, kind of like a traffic cop directing cars to their destinations.\n",
      "\n",
      "Think of it like a highway system: routers help route traffic (data) from one highway (network) to another, making sure it gets to its final destination. This way, devices on different networks can communicate with each other.\n"
     ]
    }
   ],
   "source": [
    "from langchain_core.messages import HumanMessage, SystemMessage\n",
    "\n",
    "messages = [\n",
    "    SystemMessage(content=\"You are a junior network engineer explaining concepts to a colleague who just started in networking. Avoid heavy technical jargon and keep answers short.\"),\n",
    "    HumanMessage(content=\"What is a Router?\")\n",
    "]\n",
    "\n",
    "response = llm.invoke(messages)\n",
    "print(response.content)"
   ]
  },
  {
   "cell_type": "code",
   "execution_count": 18,
   "id": "e0cd8831-a118-4987-abc9-6ee72e7f091c",
   "metadata": {},
   "outputs": [
    {
     "name": "stdout",
     "output_type": "stream",
     "text": [
      "A router is a networking device that forwards data packets between different computer networks, allowing data to be transmitted between devices on different networks. It operates at the Network Layer (Layer 3) of the OSI model, which is responsible for routing data between networks.\n",
      "\n",
      "In the OSI model, the Network Layer is divided into several sub-layers, including:\n",
      "\n",
      "1. Logical Link Control (LLC): This sub-layer provides a standard interface for the Network Layer to communicate with the Data Link Layer (Layer 2).\n",
      "2. Internet Protocol (IP): This sub-layer is responsible for routing data between networks using IP addresses.\n",
      "\n",
      "Routers use routing protocols, such as Routing Information Protocol (RIP), Open Shortest Path First (OSPF), and Border Gateway Protocol (BGP), to exchange routing information with other routers and determine the best path for forwarding data packets.\n",
      "\n",
      "The basic functions of a router include:\n",
      "\n",
      "1. Packet forwarding: Routers receive data packets from a network interface, examine the packet's destination IP address, and forward it to the next hop on the path to the destination network.\n",
      "2. Routing table management: Routers maintain a routing table that contains information about the network topology, including the IP addresses of adjacent networks and the best path to reach them.\n",
      "3. Packet filtering: Routers can filter incoming and outgoing packets based on various criteria, such as source and destination IP addresses, port numbers, and packet contents.\n",
      "\n",
      "Routers use several key protocols to operate, including:\n",
      "\n",
      "1. Internet Protocol (IP): Routers use IP to route data packets between networks.\n",
      "2. Internet Control Message Protocol (ICMP): Routers use ICMP to send error messages and diagnostic information.\n",
      "3. Routing Information Protocol (RIP): Routers use RIP to exchange routing information with other routers.\n",
      "4. Open Shortest Path First (OSPF): Routers use OSPF to exchange routing information with other routers and determine the best path for forwarding data packets.\n",
      "\n",
      "In terms of hardware, routers typically consist of:\n",
      "\n",
      "1. Network Interface Cards (NICs): Routers have multiple NICs to connect to different networks.\n",
      "2. Central Processing Unit (CPU): Routers have a CPU to process routing information and forward packets.\n",
      "3. Memory: Routers have memory to store routing tables and other information.\n",
      "4. Power Supply: Routers require a power supply to operate.\n",
      "\n",
      "In summary, a router is a critical networking device that enables data communication between different networks by forwarding packets based on their destination IP addresses and routing information.\n"
     ]
    }
   ],
   "source": [
    "messages = [\n",
    "    SystemMessage(content=\"\"\"You are a PhD in computer networking explaining concepts in a technically precise and academically rigorous manner. \n",
    "                             Include relevant protocols, layers, and theoretical context.\"\"\"),\n",
    "    HumanMessage(content=\"What is a Router?\")\n",
    "]\n",
    "\n",
    "response = llm.invoke(messages)\n",
    "print(response.content)"
   ]
  },
  {
   "cell_type": "markdown",
   "id": "ebc16fea-400e-4029-a89c-986b14bfd213",
   "metadata": {},
   "source": [
    "## Knowledge Cutoff"
   ]
  },
  {
   "cell_type": "code",
   "execution_count": 19,
   "id": "e6594aff-e07e-46e5-b085-71d2c23dcbb7",
   "metadata": {},
   "outputs": [
    {
     "name": "stdout",
     "output_type": "stream",
     "text": [
      "As of my knowledge cutoff in December 2023, the latest version of Cisco Application Centric Infrastructure (ACI) is:\n",
      "\n",
      "- Cisco ACI 6.0(x) \n",
      "- Cisco ACI 6.1(x)\n",
      "\n",
      "Please note that the versions may have changed since my knowledge cutoff date, and I recommend checking the official Cisco website for the most up-to-date information on the latest version of Cisco ACI.\n",
      "\n",
      "You can also check the Cisco website for the latest release notes and documentation for the most recent versions of Cisco ACI.\n",
      "\n",
      "Here is the link to Cisco ACI documentation:\n",
      "https://www.cisco.com/c/en/us/support/solutions-stream/solutions-stream-terms.html?seriesId=Application+Centric+Infrastructure+Software\n",
      "\n",
      "Please check the official Cisco website for the most recent and accurate information.\n"
     ]
    }
   ],
   "source": [
    "response = llm.invoke(\"What is the latest version of the Cisco ACI\")\n",
    "print(response.content)"
   ]
  },
  {
   "cell_type": "code",
   "execution_count": null,
   "id": "7789c677-2569-4bcb-89ae-e70f78b63bd3",
   "metadata": {},
   "outputs": [],
   "source": []
  }
 ],
 "metadata": {
  "kernelspec": {
   "display_name": "Python 3 (ipykernel)",
   "language": "python",
   "name": "python3"
  },
  "language_info": {
   "codemirror_mode": {
    "name": "ipython",
    "version": 3
   },
   "file_extension": ".py",
   "mimetype": "text/x-python",
   "name": "python",
   "nbconvert_exporter": "python",
   "pygments_lexer": "ipython3",
   "version": "3.11.5"
  }
 },
 "nbformat": 4,
 "nbformat_minor": 5
}
