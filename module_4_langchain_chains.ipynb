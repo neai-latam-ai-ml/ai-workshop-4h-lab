{
 "cells": [
  {
   "cell_type": "markdown",
   "id": "c57dffe5-9f34-4562-a215-ce3bff85e7ff",
   "metadata": {},
   "source": [
    "# Generative AI: RAG & AI Agent\n",
    "# LangChain Chains"
   ]
  },
  {
   "cell_type": "markdown",
   "id": "e9a034bf-0155-44b8-b098-711c36788767",
   "metadata": {},
   "source": [
    "## Simple Chain"
   ]
  },
  {
   "cell_type": "code",
   "execution_count": 14,
   "id": "3309f5be-7865-40fd-8cc2-c4780d9c58dc",
   "metadata": {},
   "outputs": [
    {
     "name": "stdout",
     "output_type": "stream",
     "text": [
      "\n",
      "\u001b[1m[\u001b[0m\u001b[34;49mnotice\u001b[0m\u001b[1;39;49m]\u001b[0m\u001b[39;49m A new release of pip is available: \u001b[0m\u001b[31;49m23.2.1\u001b[0m\u001b[39;49m -> \u001b[0m\u001b[32;49m25.2\u001b[0m\n",
      "\u001b[1m[\u001b[0m\u001b[34;49mnotice\u001b[0m\u001b[1;39;49m]\u001b[0m\u001b[39;49m To update, run: \u001b[0m\u001b[32;49mpip install --upgrade pip\u001b[0m\n"
     ]
    }
   ],
   "source": [
    "!pip install -q langchain langchain-core"
   ]
  },
  {
   "cell_type": "code",
   "execution_count": 3,
   "id": "44273a52-43ee-401b-b595-6bf7cee5d6b3",
   "metadata": {},
   "outputs": [],
   "source": [
    "from langchain_aws import ChatBedrock\n",
    "llm = ChatBedrock(\n",
    "    model_id=\"us.anthropic.claude-3-7-sonnet-20250219-v1:0\",\n",
    "    model_kwargs=dict(temperature=0),\n",
    "    region=\"us-east-1\"\n",
    ")"
   ]
  },
  {
   "cell_type": "code",
   "execution_count": 5,
   "id": "b4385ee8-0849-49aa-bd91-be4d0046e42a",
   "metadata": {},
   "outputs": [],
   "source": [
    "from langchain.prompts import PromptTemplate\n",
    "\n",
    "template = \"\"\"\n",
    "From the following Syslog message extract and explain:\n",
    "1. Event type\n",
    "2. Affected BGP peer\n",
    "3. Probable cause\n",
    "4. Recommended troubleshooting steps\n",
    "\n",
    "Syslog message:\n",
    "{message}\n",
    "\"\"\"\n",
    "\n",
    "prompt = PromptTemplate.from_template(template)\n"
   ]
  },
  {
   "cell_type": "code",
   "execution_count": 10,
   "id": "8a46c00c-9d29-4190-820b-d26efe547348",
   "metadata": {},
   "outputs": [
    {
     "name": "stdout",
     "output_type": "stream",
     "text": [
      "# Analysis of BGP Syslog Message\n",
      "\n",
      "## 1. Event Type\n",
      "This is a BGP adjacency change notification message (%BGP-5-ADJCHANGE) indicating that a BGP peering session has gone down. The severity level is 5, which is a notification-level message rather than a critical error.\n",
      "\n",
      "## 2. Affected BGP Peer\n",
      "The affected BGP peer is **192.0.2.1**. This is the IP address of the BGP neighbor with which the session has been terminated.\n",
      "\n",
      "## 3. Probable Cause\n",
      "The message indicates that a BGP Notification message was sent to the peer, causing the session to go down. BGP Notification messages are sent when a protocol error is detected. Common causes include:\n",
      "\n",
      "- BGP hold timer expiration\n",
      "- Malformed BGP messages\n",
      "- BGP configuration changes\n",
      "- Authentication failures\n",
      "- Administrative shutdown\n",
      "- Network connectivity issues between peers\n",
      "\n",
      "Since the router sent the notification (rather than received it), the local router likely detected an issue with the peer or the connection.\n",
      "\n",
      "## 4. Recommended Troubleshooting Steps\n",
      "\n",
      "1. **Check for additional BGP error messages** in the logs that might provide more specific error codes and subcodes explaining why the notification was sent.\n",
      "\n",
      "2. **Verify network connectivity** between the local router and the peer at 192.0.2.1:\n",
      "   ```\n",
      "   ping 192.0.2.1\n",
      "   traceroute 192.0.2.1\n",
      "   ```\n",
      "\n",
      "3. **Check BGP configuration** on both routers to ensure they match:\n",
      "   ```\n",
      "   show running-config | section bgp\n",
      "   ```\n",
      "\n",
      "4. **Examine BGP neighbor details** for more information:\n",
      "   ```\n",
      "   show ip bgp neighbor 192.0.2.1\n",
      "   show ip bgp summary\n",
      "   ```\n",
      "\n",
      "5. **Look for BGP notification details** that might explain the specific error:\n",
      "   ```\n",
      "   show log | include BGP.*192.0.2.1\n",
      "   ```\n",
      "\n",
      "6. **Verify BGP timers** to ensure they match on both peers.\n",
      "\n",
      "7. **Check for ACLs or firewall rules** that might be blocking BGP traffic (TCP port 179).\n",
      "\n",
      "8. **Examine interface status** for the interface connecting to the peer:\n",
      "   ```\n",
      "   show interface [interface-name]\n",
      "   ```\n",
      "\n",
      "9. **Attempt to re-establish the BGP session** if appropriate:\n",
      "   ```\n",
      "   clear ip bgp 192.0.2.1\n",
      "   ```\n",
      "\n",
      "10. **Enable BGP debugging** temporarily if the issue persists:\n",
      "    ```\n",
      "    debug ip bgp events\n",
      "    debug ip bgp updates\n",
      "    ```\n",
      "\n",
      "After resolving the issue, monitor the BGP session to ensure it remains stable.\n"
     ]
    }
   ],
   "source": [
    "from langchain.schema import SystemMessage, HumanMessage\n",
    "\n",
    "chain = prompt | llm\n",
    "\n",
    "syslog_bgp = \"*Aug  8 17:42:13.123: %BGP-5-ADJCHANGE: neighbor 192.0.2.1 Down BGP Notification sent\"\n",
    "\n",
    "messages = [\n",
    "    SystemMessage(content=\"You are a senior network engineer analyzing Cisco IOS-XE syslog messages.\"),\n",
    "    HumanMessage(content=prompt.format(message=syslog_bgp))\n",
    "]\n",
    "\n",
    "result = chain.invoke(messages)\n",
    "print(result.content)"
   ]
  },
  {
   "cell_type": "markdown",
   "id": "9b7e5f10-7ea5-4460-8242-9816f90d9826",
   "metadata": {},
   "source": [
    "## Chain with JSON Parser"
   ]
  },
  {
   "cell_type": "code",
   "execution_count": 27,
   "id": "7b543415-cd81-40c3-b25c-355b3c2d9502",
   "metadata": {},
   "outputs": [
    {
     "name": "stdout",
     "output_type": "stream",
     "text": [
      "{\n",
      "  \"timestamp\": \"Aug 8 17:42:13.123\",\n",
      "  \"event_type\": \"BGP-5-ADJCHANGE\",\n",
      "  \"affected_ip\": \"192.0.2.1\",\n",
      "  \"reason\": \"Down BGP Notification sent\"\n",
      "}\n"
     ]
    }
   ],
   "source": [
    "from langchain.output_parsers.json import SimpleJsonOutputParser\n",
    "import json\n",
    "\n",
    "parser = SimpleJsonOutputParser()\n",
    "\n",
    "template = \"\"\"\n",
    "You are a senior network engineer.\n",
    "\n",
    "Extract the following fields from the syslog message and return ONLY valid JSON:\n",
    "- timestamp\n",
    "- event_type\n",
    "- affected_ip\n",
    "- reason\n",
    "\n",
    "Syslog message:\n",
    "{message}\n",
    "\n",
    "{format_instructions}\n",
    "\"\"\"\n",
    "prompt = PromptTemplate.from_template(\n",
    "    template,\n",
    "    partial_variables={\"format_instructions\": parser.get_format_instructions()}\n",
    ")\n",
    "\n",
    "chain = llm | parser\n",
    "\n",
    "messages = [\n",
    "    SystemMessage(content=\"You are a senior network engineer analyzing Cisco IOS-XE syslog messages.\"),\n",
    "    HumanMessage(content=prompt.format(message=syslog_bgp))\n",
    "]\n",
    "\n",
    "result = chain.invoke(messages)\n",
    "\n",
    "print(json.dumps(result, indent=2))"
   ]
  },
  {
   "cell_type": "markdown",
   "id": "4276734a-08b4-4331-8381-8177b307c431",
   "metadata": {},
   "source": [
    "## Multiple Chains"
   ]
  },
  {
   "cell_type": "code",
   "execution_count": 40,
   "id": "cf4d0714-e1a5-414c-8c74-946bcdff5d77",
   "metadata": {},
   "outputs": [
    {
     "name": "stdout",
     "output_type": "stream",
     "text": [
      "{\n",
      "  \"title\": \"VPN Authentication Failure - IKE Pre-shared Key Issue\",\n",
      "  \"date\": \"Aug 8 17:13:02.456\",\n",
      "  \"description\": \"A VPN tunnel authentication failure was detected between IP addresses 198.51.100.10 and 203.0.113.5. The CRYPTO-4-IKMP_BAD_AUTH event indicates an IKE (Internet Key Exchange) authentication failure, likely due to mismatched pre-shared keys between the VPN endpoints. This could result in failed VPN connectivity between these systems.\",\n",
      "  \"troubleshooting_steps\": [\n",
      "    \"Verify the pre-shared key configuration on both VPN endpoints (198.51.100.10 and 203.0.113.5) to ensure they match exactly\",\n",
      "    \"Check for any recent changes to VPN configurations on either device\",\n",
      "    \"Examine the full crypto logs on both devices for additional context\",\n",
      "    \"Verify that both devices are using compatible IKE versions and encryption settings\",\n",
      "    \"Temporarily enable debug-level logging for IKE negotiations\",\n",
      "    \"Test connectivity between the endpoints to ensure there are no underlying network issues\",\n",
      "    \"If possible, reset and reconfigure the pre-shared keys on both endpoints\",\n",
      "    \"Check for any time synchronization issues between the devices that might affect authentication\",\n",
      "    \"Verify that neither endpoint has reached maximum session limits\",\n",
      "    \"If the issue persists, consider implementing certificate-based authentication instead of pre-shared keys\"\n",
      "  ]\n",
      "}\n"
     ]
    }
   ],
   "source": [
    "parser_syslog = SimpleJsonOutputParser()\n",
    "\n",
    "syslog_prompt_template = \"\"\"\n",
    "You are a senior network engineer.\n",
    "\n",
    "Extract the following fields from the syslog message and return ONLY valid JSON:\n",
    "- timestamp\n",
    "- event_type\n",
    "- affected_ips (List of devices/IPs/node names)\n",
    "- reason\n",
    "\n",
    "Syslog message:\n",
    "{message}\n",
    "\n",
    "{format_instructions}\n",
    "\"\"\"\n",
    "syslog_prompt = PromptTemplate.from_template(\n",
    "    syslog_prompt_template,\n",
    "    partial_variables={\"format_instructions\": parser.get_format_instructions()}\n",
    ")\n",
    "\n",
    "syslog_chain = syslog_prompt | llm | parser_syslog\n",
    "\n",
    "itsm_prompt_template = \"\"\"\n",
    "You are an IT support engineer.\n",
    "\n",
    "Create an ITSM incident ticket in JSON format with the following fields:\n",
    "- title (short summary of the event)\n",
    "- date: (Time the even took place)\n",
    "- affected devices: (List of affected devices, or IPs)\n",
    "- description (detailed context)\n",
    "- troubleshooting_steps (array of step-by-step actions)\n",
    "- severity\n",
    "- assigned team\n",
    "- status\n",
    "\n",
    "Here is the parsed syslog data:\n",
    "{syslog_json}\n",
    "\"\"\"\n",
    "parser_itsm = SimpleJsonOutputParser()\n",
    "\n",
    "itsm_chain = itsm_prompt | llm | parser_itsm\n",
    "\n",
    "# Combined chain: run syslog_chain → feed result into itsm_chain\n",
    "combined_chain = {\n",
    "    \"syslog_json\": syslog_chain  # this runs first\n",
    "} | itsm_chain                   # output goes here\n",
    "\n",
    "# Example syslog\n",
    "syslog_bgp = \"*Aug  8 17:13:02.456: %CRYPTO-4-IKMP_BAD_AUTH: IKE authentication between local address 198.51.100.10 and peer 203.0.113.5 failed. Possible pre-shared key\"\n",
    "\n",
    "ticket = combined_chain.invoke({\"message\": syslog_bgp})\n",
    "\n",
    "print(json.dumps(ticket, indent=2))"
   ]
  },
  {
   "cell_type": "code",
   "execution_count": null,
   "id": "3abce68c-85d0-48f3-99a5-7b9e48722114",
   "metadata": {},
   "outputs": [],
   "source": []
  }
 ],
 "metadata": {
  "kernelspec": {
   "display_name": "Python 3 (ipykernel)",
   "language": "python",
   "name": "python3"
  },
  "language_info": {
   "codemirror_mode": {
    "name": "ipython",
    "version": 3
   },
   "file_extension": ".py",
   "mimetype": "text/x-python",
   "name": "python",
   "nbconvert_exporter": "python",
   "pygments_lexer": "ipython3",
   "version": "3.11.5"
  }
 },
 "nbformat": 4,
 "nbformat_minor": 5
}
