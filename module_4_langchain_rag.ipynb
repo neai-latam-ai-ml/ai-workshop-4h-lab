{
 "cells": [
  {
   "cell_type": "markdown",
   "id": "fe227fab-76a0-4bd2-b971-96e456e2fa4f",
   "metadata": {},
   "source": [
    "# Retrieval Augmented Generation"
   ]
  },
  {
   "cell_type": "code",
   "execution_count": null,
   "id": "b6059e62-0d12-48d9-8cdf-5bc62d26105e",
   "metadata": {},
   "outputs": [],
   "source": [
    "!pip install -q langchain langchain_aws langchain_openai dotenv langchain-ollama"
   ]
  },
  {
   "cell_type": "code",
   "execution_count": 29,
   "id": "e9ffe25b-33a7-4d64-943d-bcfb7f137aaa",
   "metadata": {},
   "outputs": [],
   "source": [
    "from langchain_aws import ChatBedrock\n",
    "from langchain_openai import ChatOpenAI\n",
    "from dotenv import load_dotenv\n",
    "import os\n",
    "load_dotenv()\n",
    "\n",
    "llm = ChatOpenAI(\n",
    "    model=\"meta-llama/Llama-3.1-8B-Instruct\",  \n",
    "    openai_api_base=f\"http://{os.getenv('LLM_IP')}:8000/v1\",\n",
    "    openai_api_key=\"EMPTY\"  # vLLM doesn’t require real keys\n",
    ")\n"
   ]
  },
  {
   "cell_type": "code",
   "execution_count": 30,
   "id": "f55965e0-054e-4305-b74f-fb95fed71859",
   "metadata": {},
   "outputs": [
    {
     "name": "stdout",
     "output_type": "stream",
     "text": [
      "I'm not able to access your network or its configuration. However, I can provide some general information about VLAN reservation.\n",
      "\n",
      "VLAN (Virtual Local Area Network) reservations can vary depending on the network and its purpose. Here are some common VLAN reservations:\n",
      "\n",
      "1. **VLAN 1**: This is often reserved for the management VLAN, which is used for network management and administration.\n",
      "2. **VLAN 1002-1005**: These VLANs are reserved by the IEEE (Institute of Electrical and Electronics Engineers) for special purposes:\n",
      "\t* VLAN 1002: Reserved for the Cisco proprietary protocol (not a standard VLAN).\n",
      "\t* VLAN 1003: Reserved for the IEEE 802.1Q VLAN management.\n",
      "\t* VLAN 1004: Reserved for the IEEE 802.1Q VLAN management (same as VLAN 1003).\n",
      "\t* VLAN 1005: Reserved for the IEEE 802.1Q VLAN management (same as VLAN 1003 and VLAN 1004).\n",
      "3. **VLAN 4094**: This VLAN is reserved by the IEEE as a \"default\" VLAN, which means it's not used for any specific purpose and can be used as a fallback VLAN.\n",
      "\n",
      "To determine which VLANs are reserved in your network, you can:\n",
      "\n",
      "1. Check your network documentation or configuration files.\n",
      "2. Consult with your network administrator or IT department.\n",
      "3. Use network management tools, such as Cisco's Network Assistant or other third-party software, to view VLAN information.\n",
      "\n",
      "Keep in mind that VLAN reservations can vary depending on your network's specific requirements and configuration. It's essential to consult with your network administrator or IT department to determine which VLANs are reserved in your network.\n"
     ]
    }
   ],
   "source": [
    "ai_msg = llm.invoke(\"Which VLANs are reverved in my network?\")\n",
    "print(ai_msg.content)"
   ]
  },
  {
   "cell_type": "markdown",
   "id": "680d506e-7032-4770-a217-dc2d882eed5d",
   "metadata": {},
   "source": [
    "## Ingestion Pipeline (Add data to Vector DB)\n",
    "### Load"
   ]
  },
  {
   "cell_type": "code",
   "execution_count": 31,
   "id": "045dbfca-2542-4ddc-a7fa-d6dfdc4ec0ca",
   "metadata": {},
   "outputs": [],
   "source": [
    "from langchain.document_loaders import TextLoader\n",
    "\n",
    "loader = TextLoader(\"acme_policies.md\")\n",
    "documents = loader.load()\n"
   ]
  },
  {
   "cell_type": "markdown",
   "id": "ed77cea1-fd70-49d1-83ac-781b027d408c",
   "metadata": {},
   "source": [
    "### Split"
   ]
  },
  {
   "cell_type": "code",
   "execution_count": 32,
   "id": "95f2b6e2-0bf5-4147-a508-0dc93fd281be",
   "metadata": {},
   "outputs": [],
   "source": [
    "from langchain_text_splitters import MarkdownHeaderTextSplitter\n",
    "\n",
    "headers_to_split_on = [\n",
    "    (\"#\", \"Header 1\"),\n",
    "    (\"##\", \"Header 2\"),\n",
    "    (\"###\", \"Header 3\"),\n",
    "]\n",
    "md_splitter = MarkdownHeaderTextSplitter(headers_to_split_on=headers_to_split_on)"
   ]
  },
  {
   "cell_type": "code",
   "execution_count": 34,
   "id": "2c866047-7cc6-415f-8475-f58230f4cef1",
   "metadata": {},
   "outputs": [
    {
     "data": {
      "text/plain": [
       "{'Header 1': 'Policies', 'Header 2': 'Quality of Service (QoS)'}"
      ]
     },
     "execution_count": 34,
     "metadata": {},
     "output_type": "execute_result"
    }
   ],
   "source": [
    "md_splits = md_splitter.split_text(documents[0].page_content)\n",
    "md_splits[5].metadata"
   ]
  },
  {
   "cell_type": "code",
   "execution_count": 35,
   "id": "118f8668-73df-4646-bacf-2829e0b0aa43",
   "metadata": {},
   "outputs": [
    {
     "data": {
      "text/plain": [
       "'1. All edge interfaces must implement QoS policies to prioritize voice and critical applications.  \\n```\\npolicy-map EDGE_POLICY\\nclass VOICE\\npriority 500\\nclass CRITICAL_APP\\nbandwidth percent 30\\n```  \\n2. Default traffic should be marked as Best Effort (BE).'"
      ]
     },
     "execution_count": 35,
     "metadata": {},
     "output_type": "execute_result"
    }
   ],
   "source": [
    "md_splits[5].page_content"
   ]
  },
  {
   "cell_type": "code",
   "execution_count": 33,
   "id": "c4fbac93-5b44-40bf-bf5d-eab70413aae9",
   "metadata": {},
   "outputs": [
    {
     "data": {
      "text/plain": [
       "9"
      ]
     },
     "execution_count": 33,
     "metadata": {},
     "output_type": "execute_result"
    }
   ],
   "source": [
    "len(md_splits)"
   ]
  },
  {
   "cell_type": "markdown",
   "id": "de77fb4f-16b6-456f-a1ac-139b7e2f4e69",
   "metadata": {},
   "source": [
    "### Embedd"
   ]
  },
  {
   "cell_type": "code",
   "execution_count": 36,
   "id": "3ff200b1-c284-449e-a82b-01811703048c",
   "metadata": {},
   "outputs": [
    {
     "data": {
      "text/plain": [
       "['440bc5a3-8369-43f0-962b-973b9e6abf34',\n",
       " '0c52ef6d-f478-4fca-a72d-53791b57511b',\n",
       " 'af591d8d-c697-448f-9f83-835a3cfa89e3',\n",
       " '3f33cfe1-b416-4393-a9ed-b6a70ff815bd',\n",
       " 'bdf9e939-355d-49dc-ab4f-da04082cb99b',\n",
       " '5e271ae3-0f8d-4bf5-9c88-c802ce2a316b',\n",
       " '975bc5e7-332e-4b7b-894c-40418602aa0f',\n",
       " 'f146133a-0559-4494-9d2a-9797cb2d7e80',\n",
       " 'ca086c63-d4c0-492c-b206-45c8e8fd64b0']"
      ]
     },
     "execution_count": 36,
     "metadata": {},
     "output_type": "execute_result"
    }
   ],
   "source": [
    "from langchain_core.vectorstores import InMemoryVectorStore\n",
    "from langchain_aws import BedrockEmbeddings\n",
    "from langchain_openai import OpenAIEmbeddings\n",
    "from langchain_ollama import OllamaEmbeddings\n",
    "from dotenv import load_dotenv\n",
    "import os\n",
    "load_dotenv()\n",
    "\n",
    "embeddings = OllamaEmbeddings(\n",
    "    model=\"nomic-embed-text\",\n",
    "    base_url=f'http://{os.getenv(\"EMBEDDING_IP\")}:8081'\n",
    ")\n",
    "\n",
    "vector_store = InMemoryVectorStore(embeddings)\n",
    "vector_store.add_documents(documents=md_splits)"
   ]
  },
  {
   "cell_type": "code",
   "execution_count": 37,
   "id": "94003fda-d8df-4d10-91c1-8b079d000a3f",
   "metadata": {},
   "outputs": [
    {
     "name": "stdout",
     "output_type": "stream",
     "text": [
      "The following document states the configuration policies of the devices of the ACME company.\n",
      "440bc5a3-8369-43f0-962b-973b9e6abf34: [0.009143354, 0.064187326, -0.17247662, -0.024310747, 0.053223427] (768)\n",
      "----------------------------------------------------------------------------------------------------\n",
      "1. Routable addresses used on physical Interfaces (E.g: Ethernet 1/2), Port-Chanels (port-channel1) or SVI Interfaces must be taken from the CIDR 10.1.0.0/16  \n",
      "Example:\n",
      "```\n",
      "interface vlan 123\n",
      "no switchport\n",
      "ip address 10.1.1.254/24\n",
      "```  \n",
      "2. IP Addresses assigned to Router IDs (RID) of routing protocols such as OSPF, EIGRP or BGP must be taken from the CIDR 172.20.0.0/16  \n",
      "Example:\n",
      "```\n",
      "router ospf OSPF1\n",
      "router-id  172.20.1.5\n",
      "```\n",
      "0c52ef6d-f478-4fca-a72d-53791b57511b: [-0.012690579, 0.043827474, -0.15462454, -0.030858142, 0.07985148] (768)\n",
      "----------------------------------------------------------------------------------------------------\n"
     ]
    }
   ],
   "source": [
    "for index, (id, doc) in enumerate(vector_store.store.items()):\n",
    "    if index < 2:\n",
    "        print(doc['text'])\n",
    "        print(f\"{id}: {doc['vector'][0:5]} ({len(doc['vector'])})\")\n",
    "        print('----------------------------------------------------------------------------------------------------')"
   ]
  },
  {
   "cell_type": "markdown",
   "id": "2225848c-7a64-4930-8d08-872d77c4c165",
   "metadata": {},
   "source": [
    "### Similarity Search"
   ]
  },
  {
   "cell_type": "code",
   "execution_count": 38,
   "id": "107069b3-7d75-4d07-acbd-eb118b71b73f",
   "metadata": {},
   "outputs": [
    {
     "name": "stdout",
     "output_type": "stream",
     "text": [
      "1. The only valid hashing protocol for payload integrity is MD5. This applies for SNMP configurations and authenticated BGP peerings.  \n",
      "```\n",
      "snmp-server user MYUSER MYGROUP v3 auth sha <password> priv aes 256 <password>\n",
      "```  \n",
      "2. The only valid authentication protocol for payload encryption is AES 256.\n",
      "The following document states the configuration policies of the devices of the ACME company.\n"
     ]
    }
   ],
   "source": [
    "query = \"approved security mechanisms\"\n",
    "results = vector_store.similarity_search(query, k=2)\n",
    "for result in results:\n",
    "    print(result.page_content)"
   ]
  },
  {
   "cell_type": "markdown",
   "id": "33d130fb-5f12-4712-96a5-11eb652074b6",
   "metadata": {},
   "source": [
    "### RAG Pipeline (Retrieve context from Vector DB)"
   ]
  },
  {
   "cell_type": "code",
   "execution_count": null,
   "id": "94f166ed-a457-4e9c-85c8-a09bb3810790",
   "metadata": {},
   "outputs": [],
   "source": [
    "from langchain import hub\n",
    "from langchain.schema.runnable import RunnablePassthrough\n",
    "from langchain.prompts import PromptTemplate\n",
    "\n",
    "retrieval_qa_chat_prompt = PromptTemplate(\n",
    "    input_variables=[\"context\", \"question\"],\n",
    "    template=\"\"\"\n",
    "You are a network engineer assistant. Use the following documentation to answer the question.'\n",
    "If the answer is not in the documentation, say you don’t know.\n",
    "\n",
    "Documentation:\n",
    "{context}\n",
    "\n",
    "Question: {question}\n",
    "\n",
    "Answer:\n",
    "\"\"\"\n",
    ")"
   ]
  },
  {
   "cell_type": "code",
   "execution_count": 40,
   "id": "c86c1555-6d54-4ae3-a953-9e4d6b668675",
   "metadata": {},
   "outputs": [
    {
     "name": "stdout",
     "output_type": "stream",
     "text": [
      "You can use an IP address from the CIDR 172.20.0.0/16 for the router ID of routing protocols such as OSPF, EIGRP, or BGP.\n"
     ]
    }
   ],
   "source": [
    "def format_docs(docs):\n",
    "    return \"\\n\\n\".join(doc.page_content for doc in docs)\n",
    "    \n",
    "rag_chain = (\n",
    "    {'context': vector_store.as_retriever() | format_docs, 'question' : RunnablePassthrough()} |\n",
    "    retrieval_qa_chat_prompt |\n",
    "    llm\n",
    ")\n",
    "\n",
    "result = rag_chain.invoke(\"Which IP address can I use for router ID?\")\n",
    "print(result.content)"
   ]
  },
  {
   "cell_type": "code",
   "execution_count": null,
   "id": "36591fda-a002-49de-bd99-a5416f5dba9a",
   "metadata": {},
   "outputs": [],
   "source": []
  }
 ],
 "metadata": {
  "kernelspec": {
   "display_name": "Python 3 (ipykernel)",
   "language": "python",
   "name": "python3"
  },
  "language_info": {
   "codemirror_mode": {
    "name": "ipython",
    "version": 3
   },
   "file_extension": ".py",
   "mimetype": "text/x-python",
   "name": "python",
   "nbconvert_exporter": "python",
   "pygments_lexer": "ipython3",
   "version": "3.11.5"
  }
 },
 "nbformat": 4,
 "nbformat_minor": 5
}
