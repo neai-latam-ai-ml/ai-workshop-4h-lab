{
 "cells": [
  {
   "cell_type": "markdown",
   "id": "fe227fab-76a0-4bd2-b971-96e456e2fa4f",
   "metadata": {},
   "source": [
    "# Retrieval Augmented Generation"
   ]
  },
  {
   "cell_type": "code",
   "execution_count": null,
   "id": "b6059e62-0d12-48d9-8cdf-5bc62d26105e",
   "metadata": {},
   "outputs": [],
   "source": [
    "!pip install -q langchain langchain_aws langchain_openai dotenv"
   ]
  },
  {
   "cell_type": "code",
   "execution_count": null,
   "id": "e9ffe25b-33a7-4d64-943d-bcfb7f137aaa",
   "metadata": {},
   "outputs": [],
   "source": [
    "from langchain_aws import ChatBedrock\n",
    "from langchain_openai import ChatOpenAI\n",
    "from dotenv import load_dotenv\n",
    "import os\n",
    "load_dotenv()\n",
    "\n",
    "llm = ChatOpenAI(\n",
    "    model=\"meta-llama/Llama-3.1-8B-Instruct\",  \n",
    "    openai_api_base=f\"http://{os.getenv('MODEL_IP')}:8000/v1\",\n",
    "    openai_api_key=\"EMPTY\"  # vLLM doesn’t require real keys\n",
    ")\n"
   ]
  },
  {
   "cell_type": "code",
   "execution_count": null,
   "id": "f55965e0-054e-4305-b74f-fb95fed71859",
   "metadata": {},
   "outputs": [],
   "source": [
    "ai_msg = llm.invoke(\"Which VLANs are reverved in my network?\")\n",
    "print(ai_msg.content)\n"
   ]
  },
  {
   "cell_type": "markdown",
   "id": "680d506e-7032-4770-a217-dc2d882eed5d",
   "metadata": {},
   "source": [
    "## Ingestion Pipeline (Add data to Vector DB)\n",
    "### Load"
   ]
  },
  {
   "cell_type": "code",
   "execution_count": null,
   "id": "045dbfca-2542-4ddc-a7fa-d6dfdc4ec0ca",
   "metadata": {},
   "outputs": [],
   "source": [
    "from langchain.document_loaders import TextLoader\n",
    "\n",
    "loader = TextLoader(\"acme_policies.md\")\n",
    "documents = loader.load()\n"
   ]
  },
  {
   "cell_type": "markdown",
   "id": "ed77cea1-fd70-49d1-83ac-781b027d408c",
   "metadata": {},
   "source": [
    "### Split"
   ]
  },
  {
   "cell_type": "code",
   "execution_count": null,
   "id": "95f2b6e2-0bf5-4147-a508-0dc93fd281be",
   "metadata": {},
   "outputs": [],
   "source": [
    "from langchain_text_splitters import MarkdownHeaderTextSplitter\n",
    "\n",
    "headers_to_split_on = [\n",
    "    (\"#\", \"Header 1\"),\n",
    "    (\"##\", \"Header 2\"),\n",
    "    (\"###\", \"Header 3\"),\n",
    "]\n",
    "md_splitter = MarkdownHeaderTextSplitter(headers_to_split_on=headers_to_split_on)"
   ]
  },
  {
   "cell_type": "code",
   "execution_count": null,
   "id": "2c866047-7cc6-415f-8475-f58230f4cef1",
   "metadata": {},
   "outputs": [],
   "source": [
    "md_splits = md_splitter.split_text(documents[0].page_content)\n",
    "md_splits[5].metadata"
   ]
  },
  {
   "cell_type": "code",
   "execution_count": null,
   "id": "118f8668-73df-4646-bacf-2829e0b0aa43",
   "metadata": {},
   "outputs": [],
   "source": [
    "md_splits[5].page_content"
   ]
  },
  {
   "cell_type": "code",
   "execution_count": null,
   "id": "c4fbac93-5b44-40bf-bf5d-eab70413aae9",
   "metadata": {},
   "outputs": [],
   "source": [
    "len(md_splits)"
   ]
  },
  {
   "cell_type": "markdown",
   "id": "de77fb4f-16b6-456f-a1ac-139b7e2f4e69",
   "metadata": {},
   "source": [
    "### Embedd"
   ]
  },
  {
   "cell_type": "code",
   "execution_count": null,
   "id": "3ff200b1-c284-449e-a82b-01811703048c",
   "metadata": {},
   "outputs": [],
   "source": [
    "from langchain_core.vectorstores import InMemoryVectorStore\n",
    "from langchain_aws import BedrockEmbeddings\n",
    "\n",
    "embeddings = BedrockEmbeddings(\n",
    "    model_id=\"amazon.titan-embed-text-v2:0\",\n",
    "    region_name='us-east-1'\n",
    ")\n",
    "\n",
    "vector_store = InMemoryVectorStore(embeddings)\n",
    "vector_store.add_documents(documents=md_splits)"
   ]
  },
  {
   "cell_type": "code",
   "execution_count": null,
   "id": "94003fda-d8df-4d10-91c1-8b079d000a3f",
   "metadata": {},
   "outputs": [],
   "source": [
    "for index, (id, doc) in enumerate(vector_store.store.items()):\n",
    "    if index < 2:\n",
    "        print(doc['text'])\n",
    "        print(f\"{id}: {doc['vector'][0:5]} ({len(doc['vector'])})\")\n",
    "        print('----------------------------------------------------------------------------------------------------')"
   ]
  },
  {
   "cell_type": "markdown",
   "id": "2225848c-7a64-4930-8d08-872d77c4c165",
   "metadata": {},
   "source": [
    "### Similarity Search"
   ]
  },
  {
   "cell_type": "code",
   "execution_count": null,
   "id": "107069b3-7d75-4d07-acbd-eb118b71b73f",
   "metadata": {},
   "outputs": [],
   "source": [
    "query = \"approved security mechanisms\"\n",
    "results = vector_store.similarity_search(query, k=2)\n",
    "for result in results:\n",
    "    print(result.page_content)"
   ]
  },
  {
   "cell_type": "markdown",
   "id": "33d130fb-5f12-4712-96a5-11eb652074b6",
   "metadata": {},
   "source": [
    "### RAG Pipeline (Retrieve context from Vector DB)"
   ]
  },
  {
   "cell_type": "code",
   "execution_count": null,
   "id": "94f166ed-a457-4e9c-85c8-a09bb3810790",
   "metadata": {},
   "outputs": [],
   "source": [
    "from langchain import hub\n",
    "from langchain.schema.runnable import RunnablePassthrough\n",
    "from langchain.prompts import PromptTemplate\n",
    "\n",
    "retrieval_qa_chat_prompt = PromptTemplate(\n",
    "    input_variables=[\"context\", \"question\"],\n",
    "    template=\"\"\"\n",
    "You are a network engineer assistant. Use the following documentation to answer the question.'\n",
    "If the answer is not in the documentation, say you don’t know.\n",
    "\n",
    "Documentation:\n",
    "{context}\n",
    "\n",
    "Question: {question}\n",
    "\n",
    "Answer:\n",
    "\"\"\"\n",
    ")"
   ]
  },
  {
   "cell_type": "code",
   "execution_count": null,
   "id": "c86c1555-6d54-4ae3-a953-9e4d6b668675",
   "metadata": {},
   "outputs": [],
   "source": [
    "def format_docs(docs):\n",
    "    return \"\\n\\n\".join(doc.page_content for doc in docs)\n",
    "    \n",
    "rag_chain = (\n",
    "    {'context': vector_store.as_retriever() | format_docs, 'question' : RunnablePassthrough()} |\n",
    "    retrieval_qa_chat_prompt |\n",
    "    llm\n",
    ")\n",
    "result = rag_chain.invoke(\"Which VLANs are reverved in the ACME network?\")\n",
    "print(result.content)"
   ]
  }
 ],
 "metadata": {
  "kernelspec": {
   "display_name": "Python 3 (ipykernel)",
   "language": "python",
   "name": "python3"
  },
  "language_info": {
   "codemirror_mode": {
    "name": "ipython",
    "version": 3
   },
   "file_extension": ".py",
   "mimetype": "text/x-python",
   "name": "python",
   "nbconvert_exporter": "python",
   "pygments_lexer": "ipython3",
   "version": "3.11.5"
  }
 },
 "nbformat": 4,
 "nbformat_minor": 5
}
