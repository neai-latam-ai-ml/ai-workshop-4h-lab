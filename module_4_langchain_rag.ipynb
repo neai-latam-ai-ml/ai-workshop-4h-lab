{
 "cells": [
  {
   "cell_type": "markdown",
   "id": "fe227fab-76a0-4bd2-b971-96e456e2fa4f",
   "metadata": {},
   "source": [
    "# Retrieval Augmented Generation"
   ]
  },
  {
   "cell_type": "code",
   "execution_count": 1,
   "id": "b6059e62-0d12-48d9-8cdf-5bc62d26105e",
   "metadata": {},
   "outputs": [
    {
     "name": "stdout",
     "output_type": "stream",
     "text": [
      "\n",
      "\u001b[1m[\u001b[0m\u001b[34;49mnotice\u001b[0m\u001b[1;39;49m]\u001b[0m\u001b[39;49m A new release of pip is available: \u001b[0m\u001b[31;49m23.2.1\u001b[0m\u001b[39;49m -> \u001b[0m\u001b[32;49m25.2\u001b[0m\n",
      "\u001b[1m[\u001b[0m\u001b[34;49mnotice\u001b[0m\u001b[1;39;49m]\u001b[0m\u001b[39;49m To update, run: \u001b[0m\u001b[32;49mpip install --upgrade pip\u001b[0m\n",
      "Note: you may need to restart the kernel to use updated packages.\n"
     ]
    }
   ],
   "source": [
    "pip install -q langchain-community langchain_aws "
   ]
  },
  {
   "cell_type": "code",
   "execution_count": 2,
   "id": "e9ffe25b-33a7-4d64-943d-bcfb7f137aaa",
   "metadata": {},
   "outputs": [],
   "source": [
    "from langchain_aws import ChatBedrock\n",
    "\n",
    "llm = ChatBedrock(\n",
    "    model_id=\"us.anthropic.claude-3-7-sonnet-20250219-v1:0\",\n",
    "    model_kwargs=dict(temperature=0),\n",
    "    region=\"us-east-1\"\n",
    ")\n"
   ]
  },
  {
   "cell_type": "code",
   "execution_count": 3,
   "id": "f55965e0-054e-4305-b74f-fb95fed71859",
   "metadata": {},
   "outputs": [
    {
     "name": "stdout",
     "output_type": "stream",
     "text": [
      "# Reserved VLANs\n",
      "\n",
      "In standard Ethernet networks, certain VLANs are typically reserved:\n",
      "\n",
      "- **VLAN 1**: Default VLAN (often used for management)\n",
      "- **VLANs 1002-1005**: Reserved for legacy protocols:\n",
      "  - 1002: FDDI\n",
      "  - 1003: Token Ring\n",
      "  - 1004: FDDI Net\n",
      "  - 1005: Token Ring Net\n",
      "\n",
      "On Cisco equipment, VLANs 1001-1005 are automatically created and cannot be deleted.\n",
      "\n",
      "Without specific information about your particular network configuration, I can only provide these standard reservations. Your organization may have additional reserved VLANs based on your network design and policies.\n"
     ]
    }
   ],
   "source": [
    "ai_msg = llm.invoke(\"Which VLANs are reverved in my network?\")\n",
    "print(ai_msg.content)\n"
   ]
  },
  {
   "cell_type": "markdown",
   "id": "680d506e-7032-4770-a217-dc2d882eed5d",
   "metadata": {},
   "source": [
    "## Ingestion Pipeline (Add data to Vector DB)\n",
    "### Load"
   ]
  },
  {
   "cell_type": "code",
   "execution_count": 5,
   "id": "045dbfca-2542-4ddc-a7fa-d6dfdc4ec0ca",
   "metadata": {},
   "outputs": [],
   "source": [
    "from langchain.document_loaders import TextLoader\n",
    "\n",
    "loader = TextLoader(\"acme_policies.md\")\n",
    "documents = loader.load()\n"
   ]
  },
  {
   "cell_type": "markdown",
   "id": "ed77cea1-fd70-49d1-83ac-781b027d408c",
   "metadata": {},
   "source": [
    "### Split"
   ]
  },
  {
   "cell_type": "code",
   "execution_count": 7,
   "id": "95f2b6e2-0bf5-4147-a508-0dc93fd281be",
   "metadata": {},
   "outputs": [],
   "source": [
    "from langchain_text_splitters import MarkdownHeaderTextSplitter\n",
    "\n",
    "headers_to_split_on = [\n",
    "    (\"#\", \"Header 1\"),\n",
    "    (\"##\", \"Header 2\"),\n",
    "    (\"###\", \"Header 3\"),\n",
    "]\n",
    "md_splitter = MarkdownHeaderTextSplitter(headers_to_split_on=headers_to_split_on)"
   ]
  },
  {
   "cell_type": "code",
   "execution_count": 13,
   "id": "2c866047-7cc6-415f-8475-f58230f4cef1",
   "metadata": {},
   "outputs": [
    {
     "data": {
      "text/plain": [
       "{'Header 1': 'Policies', 'Header 2': 'Quality of Service (QoS)'}"
      ]
     },
     "execution_count": 13,
     "metadata": {},
     "output_type": "execute_result"
    }
   ],
   "source": [
    "md_splits = md_splitter.split_text(documents[0].page_content)\n",
    "md_splits[5].metadata"
   ]
  },
  {
   "cell_type": "code",
   "execution_count": 14,
   "id": "118f8668-73df-4646-bacf-2829e0b0aa43",
   "metadata": {},
   "outputs": [
    {
     "data": {
      "text/plain": [
       "'1. All edge interfaces must implement QoS policies to prioritize voice and critical applications.  \\n```\\npolicy-map EDGE_POLICY\\nclass VOICE\\npriority 500\\nclass CRITICAL_APP\\nbandwidth percent 30\\n```  \\n2. Default traffic should be marked as Best Effort (BE).'"
      ]
     },
     "execution_count": 14,
     "metadata": {},
     "output_type": "execute_result"
    }
   ],
   "source": [
    "md_splits[5].page_content"
   ]
  },
  {
   "cell_type": "code",
   "execution_count": 19,
   "id": "c4fbac93-5b44-40bf-bf5d-eab70413aae9",
   "metadata": {},
   "outputs": [
    {
     "data": {
      "text/plain": [
       "9"
      ]
     },
     "execution_count": 19,
     "metadata": {},
     "output_type": "execute_result"
    }
   ],
   "source": [
    "len(md_splits)"
   ]
  },
  {
   "cell_type": "markdown",
   "id": "de77fb4f-16b6-456f-a1ac-139b7e2f4e69",
   "metadata": {},
   "source": [
    "### Embedd"
   ]
  },
  {
   "cell_type": "code",
   "execution_count": 18,
   "id": "3ff200b1-c284-449e-a82b-01811703048c",
   "metadata": {},
   "outputs": [
    {
     "data": {
      "text/plain": [
       "['df796a1d-6ede-43a1-9e09-b9e46026272c',\n",
       " '6c7074df-b71e-4747-a8f1-5edb71f8843c',\n",
       " '88041a4d-27f9-4af0-9b38-5a6ffa1c9b3a',\n",
       " '157f2e2a-1802-4d8a-87ac-ab51a2de7e55',\n",
       " 'fe5a6165-3204-44b7-b610-eb640fd20914',\n",
       " 'd30a7299-f712-4674-b158-9352c204adbe',\n",
       " '04d0e48a-f7cd-4bda-b9f4-e2cc2611823d',\n",
       " 'abf62948-72b1-4904-a7cd-ef269ba1a127',\n",
       " 'feb55661-afbf-4397-80eb-fb333ad9fed8']"
      ]
     },
     "execution_count": 18,
     "metadata": {},
     "output_type": "execute_result"
    }
   ],
   "source": [
    "from langchain_core.vectorstores import InMemoryVectorStore\n",
    "from langchain_aws import BedrockEmbeddings\n",
    "\n",
    "embeddings = BedrockEmbeddings(\n",
    "    model_id=\"amazon.titan-embed-text-v2:0\",\n",
    "    region_name='us-east-1'\n",
    ")\n",
    "\n",
    "vector_store = InMemoryVectorStore(embeddings)\n",
    "vector_store.add_documents(documents=md_splits)"
   ]
  },
  {
   "cell_type": "code",
   "execution_count": 27,
   "id": "94003fda-d8df-4d10-91c1-8b079d000a3f",
   "metadata": {},
   "outputs": [
    {
     "name": "stdout",
     "output_type": "stream",
     "text": [
      "The following document states the configuration policies of the devices of the ACME company.\n",
      "df796a1d-6ede-43a1-9e09-b9e46026272c: [-0.030192214995622635, 0.060329172760248184, -0.00401478772982955, -0.007488475181162357, 0.0706123635172844] (1024)\n",
      "----------------------------------------------------------------------------------------------------\n",
      "1. Routable addresses used on physical Interfaces (E.g: Ethernet 1/2), Port-Chanels (port-channel1) or SVI Interfaces must be taken from the CIDR 10.1.0.0/16  \n",
      "Example:\n",
      "```\n",
      "interface vlan 123\n",
      "no switchport\n",
      "ip address 10.1.1.254/24\n",
      "```  \n",
      "2. IP Addresses assigned to Router IDs (RID) of routing protocols such as OSPF, EIGRP or BGP must be taken from the CIDR 172.20.0.0/16  \n",
      "Example:\n",
      "```\n",
      "router ospf OSPF1\n",
      "router-id  172.20.1.5\n",
      "```\n",
      "6c7074df-b71e-4747-a8f1-5edb71f8843c: [-0.06210282817482948, 0.028775574639439583, 0.0035110258031636477, 0.07173123955726624, 0.04515642300248146] (1024)\n",
      "----------------------------------------------------------------------------------------------------\n"
     ]
    }
   ],
   "source": [
    "for index, (id, doc) in enumerate(vector_store.store.items()):\n",
    "    if index < 2:\n",
    "        print(doc['text'])\n",
    "        print(f\"{id}: {doc['vector'][0:5]} ({len(doc['vector'])})\")\n",
    "        print('----------------------------------------------------------------------------------------------------')"
   ]
  },
  {
   "cell_type": "markdown",
   "id": "2225848c-7a64-4930-8d08-872d77c4c165",
   "metadata": {},
   "source": [
    "### Similarity Search"
   ]
  },
  {
   "cell_type": "code",
   "execution_count": 28,
   "id": "107069b3-7d75-4d07-acbd-eb118b71b73f",
   "metadata": {},
   "outputs": [
    {
     "name": "stdout",
     "output_type": "stream",
     "text": [
      "1. The only valid hashing protocol for payload integrity is MD5. This applies for SNMP configurations and authenticated BGP peerings.  \n",
      "```\n",
      "snmp-server user MYUSER MYGROUP v3 auth sha <password> priv aes 256 <password>\n",
      "```  \n",
      "2. The only valid authentication protocol for payload encryption is AES 256.\n",
      "The following document states the configuration policies of the devices of the ACME company.\n"
     ]
    }
   ],
   "source": [
    "query = \"approved security mechanisms\"\n",
    "results = vector_store.similarity_search(query, k=2)\n",
    "for result in results:\n",
    "    print(result.page_content)"
   ]
  },
  {
   "cell_type": "markdown",
   "id": "33d130fb-5f12-4712-96a5-11eb652074b6",
   "metadata": {},
   "source": [
    "### RAG Pipeline (Retrieve context from Vector DB)"
   ]
  },
  {
   "cell_type": "code",
   "execution_count": 39,
   "id": "94f166ed-a457-4e9c-85c8-a09bb3810790",
   "metadata": {},
   "outputs": [],
   "source": [
    "from langchain import hub\n",
    "from langchain.schema.runnable import RunnablePassthrough\n",
    "from langchain.prompts import PromptTemplate\n",
    "\n",
    "retrieval_qa_chat_prompt = PromptTemplate(\n",
    "    input_variables=[\"context\", \"question\"],\n",
    "    template=\"\"\"\n",
    "You are a network engineer assistant. Use the following documentation to answer the question.'\n",
    "If the answer is not in the documentation, say you don’t know.\n",
    "\n",
    "Documentation:\n",
    "{context}\n",
    "\n",
    "Question: {question}\n",
    "\n",
    "Answer:\n",
    "\"\"\"\n",
    ")"
   ]
  },
  {
   "cell_type": "code",
   "execution_count": 40,
   "id": "c86c1555-6d54-4ae3-a953-9e4d6b668675",
   "metadata": {},
   "outputs": [
    {
     "name": "stdout",
     "output_type": "stream",
     "text": [
      "Based on the documentation provided, the following VLANs are reserved in the ACME network:\n",
      "\n",
      "- Management VLAN: 10\n",
      "- Voice VLAN: 20\n",
      "- Guest VLAN: 30\n",
      "\n",
      "These are specifically mentioned in section 2 of the documentation as \"Reserved VLANs for management and infrastructure.\"\n"
     ]
    }
   ],
   "source": [
    "def format_docs(docs):\n",
    "    return \"\\n\\n\".join(doc.page_content for doc in docs)\n",
    "    \n",
    "rag_chain = (\n",
    "    {'context': vector_store.as_retriever() | format_docs, 'question' : RunnablePassthrough()} |\n",
    "    retrieval_qa_chat_prompt |\n",
    "    llm\n",
    ")\n",
    "result = rag_chain.invoke(\"Which VLANs are reverved in the ACME network?\")\n",
    "print(result.content)"
   ]
  },
  {
   "cell_type": "code",
   "execution_count": null,
   "id": "8f428df5-8334-4c3a-98fb-69cf1377e381",
   "metadata": {},
   "outputs": [],
   "source": []
  }
 ],
 "metadata": {
  "kernelspec": {
   "display_name": "Python 3 (ipykernel)",
   "language": "python",
   "name": "python3"
  },
  "language_info": {
   "codemirror_mode": {
    "name": "ipython",
    "version": 3
   },
   "file_extension": ".py",
   "mimetype": "text/x-python",
   "name": "python",
   "nbconvert_exporter": "python",
   "pygments_lexer": "ipython3",
   "version": "3.11.5"
  }
 },
 "nbformat": 4,
 "nbformat_minor": 5
}
