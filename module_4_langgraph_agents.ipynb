{
 "cells": [
  {
   "cell_type": "markdown",
   "id": "5c030683-6c4f-42b2-958d-e355045c873f",
   "metadata": {},
   "source": [
    "# AI Agents"
   ]
  },
  {
   "cell_type": "code",
   "execution_count": null,
   "id": "04fe5d4f-585b-4018-a772-a325d594baf7",
   "metadata": {},
   "outputs": [],
   "source": [
    "pip install -q langgraph requests rich"
   ]
  },
  {
   "cell_type": "markdown",
   "id": "43babe91-0c81-4baf-be44-20c298cb22e8",
   "metadata": {},
   "source": [
    "## Large Language Model "
   ]
  },
  {
   "cell_type": "code",
   "execution_count": null,
   "id": "3a635d44-708b-4a98-b1a3-d1c1e655cb27",
   "metadata": {},
   "outputs": [],
   "source": [
    "from langchain_aws import ChatBedrock\n",
    "from langchain_aws import ChatBedrock\n",
    "from langchain_openai import ChatOpenAI\n",
    "from dotenv import load_dotenv\n",
    "import os\n",
    "load_dotenv()\n",
    "\n",
    "\n",
    "llm = ChatOpenAI(\n",
    "    model=\"meta-llama/Llama-3.1-8B-Instruct\",  \n",
    "    openai_api_base=f\"http://{os.getenv('MODEL_IP')}:8000/v1\",\n",
    "    openai_api_key=\"EMPTY\"  # vLLM doesn’t require real keys\n",
    ")\n",
    "\n",
    "# llm = ChatBedrock(\n",
    "#     model_id=\"us.anthropic.claude-3-7-sonnet-20250219-v1:0\",\n",
    "#     model_kwargs=dict(temperature=0),\n",
    "#     region=\"us-east-1\"\n",
    "# )"
   ]
  },
  {
   "cell_type": "markdown",
   "id": "2fdd5f97-c4e7-4d9a-aa8c-b68ebb950c49",
   "metadata": {},
   "source": [
    "##  Tools"
   ]
  },
  {
   "cell_type": "code",
   "execution_count": null,
   "id": "7cc98b0b-33bb-4704-90ab-da2012fe336a",
   "metadata": {},
   "outputs": [],
   "source": [
    "from dotenv import load_dotenv\n",
    "import os\n",
    "\n",
    "load_dotenv()\n",
    "BASE_URL=os.getenv(\"BASE_URL\")\n",
    "USERNAME=os.getenv(\"USERNAME\")\n",
    "PASSWORD=os.getenv(\"PASSWORD\")"
   ]
  },
  {
   "cell_type": "code",
   "execution_count": null,
   "id": "be61c30a-969e-42b8-99f4-79eb253059fa",
   "metadata": {},
   "outputs": [],
   "source": [
    "# Authenticate\n",
    "\n",
    "import requests\n",
    "import warnings\n",
    "import urllib3\n",
    "\n",
    "warnings.simplefilter('ignore', urllib3.exceptions.InsecureRequestWarning)\n",
    "\n",
    "url = f\"{BASE_URL}/dna/system/api/v1/auth/token\"\n",
    "response = requests.post(url, auth=(USERNAME, PASSWORD), verify=False)\n",
    "\n",
    "if \"error\" in response.text:\n",
    "    raise ValueError(\"ERROR: Failed to retrieve Access Token! REASON: {}\".format(response.json()[\"error\"]))\n",
    "else:\n",
    "    global dna_token\n",
    "    dna_token = response.json()[\"Token\"]\n",
    "\n"
   ]
  },
  {
   "cell_type": "code",
   "execution_count": null,
   "id": "e297f614-af6f-4a0e-98a5-5073ffd73b80",
   "metadata": {},
   "outputs": [],
   "source": [
    "dna_token"
   ]
  },
  {
   "cell_type": "code",
   "execution_count": null,
   "id": "055500bc-7580-480a-b5df-2e14d4984441",
   "metadata": {},
   "outputs": [],
   "source": [
    "from langchain.tools import tool\n",
    "import csv\n",
    "from io import StringIO\n",
    "\n",
    "@tool(\"get_devices\")\n",
    "def get_devices():\n",
    "    \"\"\"\n",
    "    Retrieves the list of devices in the DNA Center\n",
    "\n",
    "\n",
    "    Returns:\n",
    "    - list: A list of dictionary with the Device. Including type, hostname, software, version etc\n",
    "    \"\"\"\n",
    "    url = f\"{BASE_URL}/dna/intent/api/v1/network-device\"\n",
    "    headers = {\"X-Auth-Token\": dna_token}\n",
    "    response = requests.get(url, headers=headers, verify=False)\n",
    "    response.raise_for_status()\n",
    "    return response.json()['response']\n",
    "\n",
    "@tool(\"save_csv\")\n",
    "def save_csv(csv_string: str, filename: str):\n",
    "    \"\"\"\n",
    "    Saves a CSV string to a file.\n",
    "\n",
    "    Parameters:\n",
    "    - csv_string (str):  CSV content as a string. Input is a text separates by commas (,). Line changr per row\n",
    "    - filename (str): Filename to save (should end with .csv)\n",
    "\n",
    "    Returns:\n",
    "    - status: Informs if the operation was sucessful or not\n",
    "    \"\"\"\n",
    "    # Use StringIO to treat string as a file\n",
    "    f = StringIO(csv_string)\n",
    "    reader = csv.reader(f)\n",
    "    \n",
    "    # Write to actual CSV file\n",
    "    with open(filename, mode='w', newline='') as file:\n",
    "        writer = csv.writer(file)\n",
    "        for row in reader:\n",
    "            writer.writerow(row)\n",
    "    return f\"File {filename} saved\" "
   ]
  },
  {
   "cell_type": "markdown",
   "id": "2db9334a-d3cf-4a49-87a3-4891a25996e6",
   "metadata": {},
   "source": [
    "## Agent"
   ]
  },
  {
   "cell_type": "code",
   "execution_count": null,
   "id": "4abe9055-6dbe-4c1a-b40e-c2d0939cbfe5",
   "metadata": {},
   "outputs": [],
   "source": [
    "from langgraph.prebuilt import create_react_agent\n",
    "\n",
    "system_prompt = \"\"\"\n",
    "You are a Cisco DNA Center expert AI.\n",
    "\n",
    "Rules:\n",
    "1. Only call ONE tool per response, if a tool is actually needed to answer the user.\n",
    "2. If the user’s question can be answered without a tool, answer normally in text.\n",
    "\"\"\"\n",
    "\n",
    "dna_center_agent = create_react_agent(\n",
    "    llm,\n",
    "    [get_devices, save_csv],\n",
    "    prompt=system_prompt\n",
    ")"
   ]
  },
  {
   "cell_type": "code",
   "execution_count": null,
   "id": "d6d7d47d-3434-4c21-9e24-9d78f8be27f3",
   "metadata": {},
   "outputs": [],
   "source": [
    "dna_center_agent"
   ]
  },
  {
   "cell_type": "code",
   "execution_count": null,
   "id": "662560d5-13a6-4b02-9310-b20d0af2ee9e",
   "metadata": {},
   "outputs": [],
   "source": [
    "response = dna_center_agent.invoke({\"messages\": \"Hi!\"})\n",
    "print(response['messages'][-1].content)"
   ]
  },
  {
   "cell_type": "code",
   "execution_count": null,
   "id": "92dc2337-0a66-4501-ba9f-392fd1259561",
   "metadata": {},
   "outputs": [],
   "source": [
    "response = dna_center_agent.invoke({\"messages\": \"What devices do I have configured?\"})\n",
    "print(response['messages'][-1].content)"
   ]
  },
  {
   "cell_type": "code",
   "execution_count": null,
   "id": "1396764a-0837-4609-8532-fd67f0a958e2",
   "metadata": {},
   "outputs": [],
   "source": [
    "import rich\n",
    "from langchain_core.messages import HumanMessage\n",
    "\n",
    "initial_message = HumanMessage(\n",
    "    content=\"Generate a CSV file with the list of devices. List the hostname, serial number and SW version. Use a single tool per iteration!\"\n",
    ")\n",
    "\n",
    "\n",
    "for event in dna_center_agent.stream(\n",
    "    {\"messages\": [initial_message]},\n",
    "    stream_mode=\"updates\",\n",
    "):\n",
    "    for _, message_or_messages in event.items():\n",
    "        if isinstance(message_or_messages[\"messages\"], list):\n",
    "            for message in message_or_messages[\"messages\"]:\n",
    "                rich.print(message.pretty_repr())\n",
    "        else:\n",
    "            rich.print(message_or_messages[\"messages\"].pretty_repr())"
   ]
  }
 ],
 "metadata": {
  "kernelspec": {
   "display_name": "Python 3 (ipykernel)",
   "language": "python",
   "name": "python3"
  },
  "language_info": {
   "codemirror_mode": {
    "name": "ipython",
    "version": 3
   },
   "file_extension": ".py",
   "mimetype": "text/x-python",
   "name": "python",
   "nbconvert_exporter": "python",
   "pygments_lexer": "ipython3",
   "version": "3.11.5"
  }
 },
 "nbformat": 4,
 "nbformat_minor": 5
}
