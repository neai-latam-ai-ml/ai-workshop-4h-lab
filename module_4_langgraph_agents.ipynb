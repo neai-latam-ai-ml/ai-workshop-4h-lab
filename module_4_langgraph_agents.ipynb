{
 "cells": [
  {
   "cell_type": "markdown",
   "id": "5c030683-6c4f-42b2-958d-e355045c873f",
   "metadata": {},
   "source": [
    "# AI Agents"
   ]
  },
  {
   "cell_type": "code",
   "execution_count": 20,
   "id": "04fe5d4f-585b-4018-a772-a325d594baf7",
   "metadata": {},
   "outputs": [
    {
     "name": "stdout",
     "output_type": "stream",
     "text": [
      "\n",
      "\u001b[1m[\u001b[0m\u001b[34;49mnotice\u001b[0m\u001b[1;39;49m]\u001b[0m\u001b[39;49m A new release of pip is available: \u001b[0m\u001b[31;49m23.2.1\u001b[0m\u001b[39;49m -> \u001b[0m\u001b[32;49m25.2\u001b[0m\n",
      "\u001b[1m[\u001b[0m\u001b[34;49mnotice\u001b[0m\u001b[1;39;49m]\u001b[0m\u001b[39;49m To update, run: \u001b[0m\u001b[32;49mpip install --upgrade pip\u001b[0m\n",
      "Note: you may need to restart the kernel to use updated packages.\n"
     ]
    }
   ],
   "source": [
    "pip install -q langgraph requests rich"
   ]
  },
  {
   "cell_type": "markdown",
   "id": "43babe91-0c81-4baf-be44-20c298cb22e8",
   "metadata": {},
   "source": [
    "## Large Language Model "
   ]
  },
  {
   "cell_type": "code",
   "execution_count": 1,
   "id": "3a635d44-708b-4a98-b1a3-d1c1e655cb27",
   "metadata": {},
   "outputs": [],
   "source": [
    "from langchain_aws import ChatBedrock\n",
    "\n",
    "llm = ChatBedrock(\n",
    "    model_id=\"us.anthropic.claude-3-7-sonnet-20250219-v1:0\",\n",
    "    model_kwargs=dict(temperature=0),\n",
    "    region=\"us-east-1\"\n",
    ")\n"
   ]
  },
  {
   "cell_type": "markdown",
   "id": "2fdd5f97-c4e7-4d9a-aa8c-b68ebb950c49",
   "metadata": {},
   "source": [
    "##  Tools"
   ]
  },
  {
   "cell_type": "code",
   "execution_count": 2,
   "id": "7cc98b0b-33bb-4704-90ab-da2012fe336a",
   "metadata": {},
   "outputs": [],
   "source": [
    "from dotenv import load_dotenv\n",
    "import os\n",
    "\n",
    "load_dotenv()\n",
    "BASE_URL=os.getenv(\"BASE_URL\")\n",
    "USERNAME=os.getenv(\"USERNAME\")\n",
    "PASSWORD=os.getenv(\"PASSWORD\")"
   ]
  },
  {
   "cell_type": "code",
   "execution_count": 3,
   "id": "be61c30a-969e-42b8-99f4-79eb253059fa",
   "metadata": {},
   "outputs": [],
   "source": [
    "# Authenticate\n",
    "\n",
    "import requests\n",
    "import warnings\n",
    "import urllib3\n",
    "\n",
    "warnings.simplefilter('ignore', urllib3.exceptions.InsecureRequestWarning)\n",
    "\n",
    "url = f\"{BASE_URL}/dna/system/api/v1/auth/token\"\n",
    "response = requests.post(url, auth=(USERNAME, PASSWORD), verify=False)\n",
    "\n",
    "if \"error\" in response.text:\n",
    "    raise ValueError(\"ERROR: Failed to retrieve Access Token! REASON: {}\".format(response.json()[\"error\"]))\n",
    "else:\n",
    "    global dna_token\n",
    "    dna_token = response.json()[\"Token\"]\n",
    "\n"
   ]
  },
  {
   "cell_type": "code",
   "execution_count": 26,
   "id": "055500bc-7580-480a-b5df-2e14d4984441",
   "metadata": {},
   "outputs": [],
   "source": [
    "from langchain.tools import tool\n",
    "import csv\n",
    "from io import StringIO\n",
    "\n",
    "@tool(\"get_devices\")\n",
    "def get_devices():\n",
    "    \"\"\"\n",
    "    Retrieves the list of devices in the DNA Center\n",
    "\n",
    "\n",
    "    Returns:\n",
    "    - list: A list of dictionary with the Device. Includin type, hostname, software, version etx\n",
    "    \"\"\"\n",
    "    url = f\"{BASE_URL}/dna/intent/api/v1/network-device\"\n",
    "    headers = {\"X-Auth-Token\": dna_token}\n",
    "    response = requests.get(url, headers=headers, verify=False)\n",
    "    response.raise_for_status()\n",
    "    return response.json()['response']\n",
    "\n",
    "@tool(\"save_csv\")\n",
    "def save_csv(csv_string: str, filename: str):\n",
    "    \"\"\"\n",
    "    Saves a CSV string to a file.\n",
    "\n",
    "    Parameters:\n",
    "    - csv_string (str):  CSV content as a string\n",
    "    - filename (str): Filename to save (should end with .csv)\n",
    "\n",
    "    Returns:\n",
    "    - status: Informs if the operation was sucessful or not\n",
    "    \"\"\"\n",
    "    # Use StringIO to treat string as a file\n",
    "    f = StringIO(csv_string)\n",
    "    reader = csv.reader(f)\n",
    "    \n",
    "    # Write to actual CSV file\n",
    "    with open(filename, mode='w', newline='') as file:\n",
    "        writer = csv.writer(file)\n",
    "        for row in reader:\n",
    "            writer.writerow(row)\n",
    "    return f\"File {filename} saved\" "
   ]
  },
  {
   "cell_type": "markdown",
   "id": "2db9334a-d3cf-4a49-87a3-4891a25996e6",
   "metadata": {},
   "source": [
    "## Agent"
   ]
  },
  {
   "cell_type": "code",
   "execution_count": 27,
   "id": "4abe9055-6dbe-4c1a-b40e-c2d0939cbfe5",
   "metadata": {},
   "outputs": [],
   "source": [
    "from langgraph.prebuilt import create_react_agent\n",
    "\n",
    "system_prompt = \"\"\"\n",
    "You are a Cisco DNA Center expert able to to validate information on the network\n",
    "\n",
    "\"\"\"\n",
    "\n",
    "dna_center_agent = create_react_agent(\n",
    "    llm,\n",
    "    [get_devices, save_csv],\n",
    "    prompt=system_prompt\n",
    ")"
   ]
  },
  {
   "cell_type": "code",
   "execution_count": 28,
   "id": "d6d7d47d-3434-4c21-9e24-9d78f8be27f3",
   "metadata": {},
   "outputs": [
    {
     "data": {
      "image/png": "[encoded data removed]",
      "text/plain": [
       "<langgraph.graph.state.CompiledStateGraph object at 0x122624c90>"
      ]
     },
     "execution_count": 28,
     "metadata": {},
     "output_type": "execute_result"
    }
   ],
   "source": [
    "dna_center_agent"
   ]
  },
  {
   "cell_type": "code",
   "execution_count": 7,
   "id": "662560d5-13a6-4b02-9310-b20d0af2ee9e",
   "metadata": {},
   "outputs": [
    {
     "name": "stdout",
     "output_type": "stream",
     "text": [
      "Hello! I'm a Cisco DNA Center expert here to help you. How can I assist you with your DNA Center environment today? I can help you with information about devices in your network, troubleshooting, or answering questions about DNA Center functionality.\n",
      "\n",
      "Would you like me to retrieve a list of devices in your DNA Center to get started?\n"
     ]
    }
   ],
   "source": [
    "response = dna_center_agent.invoke({\"messages\": \"Hi!\"})\n",
    "print(response['messages'][-1].content)"
   ]
  },
  {
   "cell_type": "code",
   "execution_count": 8,
   "id": "92dc2337-0a66-4501-ba9f-392fd1259561",
   "metadata": {},
   "outputs": [
    {
     "name": "stdout",
     "output_type": "stream",
     "text": [
      "Based on the information retrieved from your Cisco DNA Center, you have the following devices configured:\n",
      "\n",
      "1. **Cisco Catalyst 9130AXE Unified Access Point**\n",
      "   - Hostname: rcdn-srp-9130E.2804\n",
      "   - Software Version: 17.9.5.47\n",
      "   - Serial Number: FJC2410184B\n",
      "   - Management IP: 100.78.60.66\n",
      "   - Status: Reachable and Managed\n",
      "   - Associated WLC IP: 10.88.231.101\n",
      "\n",
      "2. **Cisco Catalyst 9800-40 Wireless Controller**\n",
      "   - Hostname: rcdn-srp-c9800-05.cisco.com\n",
      "   - Software Version: 17.9.5\n",
      "   - Serial Number: TTM234806C7\n",
      "   - Management IP: 10.88.231.101\n",
      "   - Status: Ping Reachable with Partial Collection Failure\n",
      "   - Note: There appears to be an SNMP authentication error with this device that's preventing full management\n",
      "\n",
      "The wireless controller has been up for about 21 days, while the access point has been up for a shorter period (about 3.9 hours based on the uptime seconds).\n",
      "\n",
      "Would you like more specific information about either of these devices?\n"
     ]
    }
   ],
   "source": [
    "response = dna_center_agent.invoke({\"messages\": \"What devices do I have configured?\"})\n",
    "print(response['messages'][-1].content)"
   ]
  },
  {
   "cell_type": "code",
   "execution_count": 15,
   "id": "d31c4435-5cfd-41e6-952b-fd1feceaea0e",
   "metadata": {},
   "outputs": [
    {
     "name": "stdout",
     "output_type": "stream",
     "text": [
      "I apologize for the technical difficulties. It appears there's an issue with the CSV saving function. Let me provide you with the device information in a format that you can copy and save as a CSV file manually:\n",
      "\n",
      "```csv\n",
      "Hostname,Serial Number,Software Version\n",
      "rcdn-srp-9130E.2804,FJC2410184B,17.9.5.47\n",
      "rcdn-srp-c9800-05.cisco.com,TTM234806C7,17.9.5\n",
      "```\n",
      "\n",
      "This data shows:\n",
      "1. A Cisco Catalyst 9130AXE Unified Access Point (hostname: rcdn-srp-9130E.2804)\n",
      "2. A Cisco Catalyst 9800-40 Wireless Controller (hostname: rcdn-srp-c9800-05.cisco.com)\n",
      "\n",
      "You can copy this text and save it as a CSV file with the name \"device_inventory.csv\" on your computer. Then you can open it with any spreadsheet application like Microsoft Excel or Google Sheets.\n"
     ]
    }
   ],
   "source": [
    "response = dna_center_agent.invoke({\"messages\": \"Coud you generate a CSV file with the list of devices. List the hostname, serial number and SW version?\"})\n",
    "print(response['messages'][-1].content)"
   ]
  },
  {
   "cell_type": "code",
   "execution_count": 29,
   "id": "1396764a-0837-4609-8532-fd67f0a958e2",
   "metadata": {},
   "outputs": [
    {
     "data": {
      "text/html": [
       "<pre style=\"white-space:pre;overflow-x:auto;line-height:normal;font-family:Menlo,'DejaVu Sans Mono',consolas,'Courier New',monospace\">================================== Ai Message ==================================\n",
       "\n",
       "I'll help you generate a CSV file with the list of devices including hostname, serial number, and software version.\n",
       "Let me retrieve the device information first and then create the CSV file for you.\n",
       "Tool Calls:\n",
       "  get_devices <span style=\"font-weight: bold\">(</span>toolu_bdrk_01LCDi9NKxjfxJ9pRakH8Uiv<span style=\"font-weight: bold\">)</span>\n",
       " Call ID: toolu_bdrk_01LCDi9NKxjfxJ9pRakH8Uiv\n",
       "  Args:\n",
       "</pre>\n"
      ],
      "text/plain": [
       "================================== Ai Message ==================================\n",
       "\n",
       "I'll help you generate a CSV file with the list of devices including hostname, serial number, and software version.\n",
       "Let me retrieve the device information first and then create the CSV file for you.\n",
       "Tool Calls:\n",
       "  get_devices \u001b[1m(\u001b[0mtoolu_bdrk_01LCDi9NKxjfxJ9pRakH8Uiv\u001b[1m)\u001b[0m\n",
       " Call ID: toolu_bdrk_01LCDi9NKxjfxJ9pRakH8Uiv\n",
       "  Args:\n"
      ]
     },
     "metadata": {},
     "output_type": "display_data"
    },
    {
     "data": {
      "text/html": [
       "<pre style=\"white-space:pre;overflow-x:auto;line-height:normal;font-family:Menlo,'DejaVu Sans Mono',consolas,'Courier New',monospace\">================================= Tool Message =================================\n",
       "Name: get_devices\n",
       "\n",
       "<span style=\"font-weight: bold\">[{</span><span style=\"color: #008000; text-decoration-color: #008000\">\"memorySize\"</span>: <span style=\"color: #008000; text-decoration-color: #008000\">\"NA\"</span>, <span style=\"color: #008000; text-decoration-color: #008000\">\"description\"</span>: null, <span style=\"color: #008000; text-decoration-color: #008000\">\"type\"</span>: <span style=\"color: #008000; text-decoration-color: #008000\">\"Cisco Catalyst 9130AXE Unified Access Point\"</span>, <span style=\"color: #008000; text-decoration-color: #008000\">\"lastUpdateTime\"</span>:\n",
       "<span style=\"color: #008080; text-decoration-color: #008080; font-weight: bold\">1755179902768</span>, <span style=\"color: #008000; text-decoration-color: #008000\">\"upTime\"</span>: <span style=\"color: #008000; text-decoration-color: #008000\">\"00:36:20.980\"</span>, <span style=\"color: #008000; text-decoration-color: #008000\">\"macAddress\"</span>: <span style=\"color: #008000; text-decoration-color: #008000\">\"a4:b2:39:02:d8:40\"</span>, <span style=\"color: #008000; text-decoration-color: #008000\">\"deviceSupportLevel\"</span>: <span style=\"color: #008000; text-decoration-color: #008000\">\"Supported\"</span>, \n",
       "<span style=\"color: #008000; text-decoration-color: #008000\">\"softwareType\"</span>: null, <span style=\"color: #008000; text-decoration-color: #008000\">\"softwareVersion\"</span>: <span style=\"color: #008000; text-decoration-color: #008000\">\"17.9.5.47\"</span>, <span style=\"color: #008000; text-decoration-color: #008000\">\"serialNumber\"</span>: <span style=\"color: #008000; text-decoration-color: #008000\">\"FJC2410184B\"</span>, <span style=\"color: #008000; text-decoration-color: #008000\">\"inventoryStatusDetail\"</span>: <span style=\"color: #008000; text-decoration-color: #008000\">\"NA\"</span>,\n",
       "<span style=\"color: #008000; text-decoration-color: #008000\">\"syncRequestedByApp\"</span>: <span style=\"color: #008000; text-decoration-color: #008000\">\"\"</span>, <span style=\"color: #008000; text-decoration-color: #008000\">\"collectionInterval\"</span>: <span style=\"color: #008000; text-decoration-color: #008000\">\"NA\"</span>, <span style=\"color: #008000; text-decoration-color: #008000\">\"dnsResolvedManagementAddress\"</span>: <span style=\"color: #008000; text-decoration-color: #008000\">\"\"</span>, \n",
       "<span style=\"color: #008000; text-decoration-color: #008000\">\"lastManagedResyncReasons\"</span>: <span style=\"color: #008000; text-decoration-color: #008000\">\"\"</span>, <span style=\"color: #008000; text-decoration-color: #008000\">\"managementState\"</span>: <span style=\"color: #008000; text-decoration-color: #008000\">\"Managed\"</span>, <span style=\"color: #008000; text-decoration-color: #008000\">\"pendingSyncRequestsCount\"</span>: <span style=\"color: #008000; text-decoration-color: #008000\">\"0\"</span>, \n",
       "<span style=\"color: #008000; text-decoration-color: #008000\">\"reasonsForDeviceResync\"</span>: <span style=\"color: #008000; text-decoration-color: #008000\">\"\"</span>, <span style=\"color: #008000; text-decoration-color: #008000\">\"reasonsForPendingSyncRequests\"</span>: <span style=\"color: #008000; text-decoration-color: #008000\">\"\"</span>, <span style=\"color: #008000; text-decoration-color: #008000\">\"roleSource\"</span>: <span style=\"color: #008000; text-decoration-color: #008000\">\"AUTO\"</span>, <span style=\"color: #008000; text-decoration-color: #008000\">\"lastUpdated\"</span>: <span style=\"color: #008000; text-decoration-color: #008000\">\"2025-08-14</span>\n",
       "<span style=\"color: #008000; text-decoration-color: #008000\">13:58:22\"</span>, <span style=\"color: #008000; text-decoration-color: #008000\">\"reachabilityStatus\"</span>: <span style=\"color: #008000; text-decoration-color: #008000\">\"Reachable\"</span>, <span style=\"color: #008000; text-decoration-color: #008000\">\"series\"</span>: <span style=\"color: #008000; text-decoration-color: #008000\">\"Cisco Catalyst 9130AXE Series Unified Access Points\"</span>, \n",
       "<span style=\"color: #008000; text-decoration-color: #008000\">\"snmpContact\"</span>: <span style=\"color: #008000; text-decoration-color: #008000\">\"\"</span>, <span style=\"color: #008000; text-decoration-color: #008000\">\"snmpLocation\"</span>: <span style=\"color: #008000; text-decoration-color: #008000\">\"default location\"</span>, <span style=\"color: #008000; text-decoration-color: #008000\">\"bootDateTime\"</span>: null, <span style=\"color: #008000; text-decoration-color: #008000\">\"apManagerInterfaceIp\"</span>: \n",
       "<span style=\"color: #008000; text-decoration-color: #008000\">\"100.78.53.101\"</span>, <span style=\"color: #008000; text-decoration-color: #008000\">\"collectionStatus\"</span>: <span style=\"color: #008000; text-decoration-color: #008000\">\"Managed\"</span>, <span style=\"color: #008000; text-decoration-color: #008000\">\"family\"</span>: <span style=\"color: #008000; text-decoration-color: #008000\">\"Unified AP\"</span>, <span style=\"color: #008000; text-decoration-color: #008000\">\"hostname\"</span>: <span style=\"color: #008000; text-decoration-color: #008000\">\"rcdn-srp-9130E.2804\"</span>, \n",
       "<span style=\"color: #008000; text-decoration-color: #008000\">\"locationName\"</span>: null, <span style=\"color: #008000; text-decoration-color: #008000\">\"managementIpAddress\"</span>: <span style=\"color: #008000; text-decoration-color: #008000\">\"100.78.60.66\"</span>, <span style=\"color: #008000; text-decoration-color: #008000\">\"platformId\"</span>: <span style=\"color: #008000; text-decoration-color: #008000\">\"C9130AXE-B\"</span>, \n",
       "<span style=\"color: #008000; text-decoration-color: #008000\">\"reachabilityFailureReason\"</span>: <span style=\"color: #008000; text-decoration-color: #008000\">\"NA\"</span>, <span style=\"color: #008000; text-decoration-color: #008000\">\"interfaceCount\"</span>: <span style=\"color: #008000; text-decoration-color: #008000\">\"0\"</span>, <span style=\"color: #008000; text-decoration-color: #008000\">\"associatedWlcIp\"</span>: <span style=\"color: #008000; text-decoration-color: #008000\">\"10.88.231.101\"</span>, \n",
       "<span style=\"color: #008000; text-decoration-color: #008000\">\"apEthernetMacAddress\"</span>: <span style=\"color: #008000; text-decoration-color: #008000\">\"6c:71:0d:f4:28:04\"</span>, <span style=\"color: #008000; text-decoration-color: #008000\">\"errorCode\"</span>: <span style=\"color: #008000; text-decoration-color: #008000\">\"null\"</span>, <span style=\"color: #008000; text-decoration-color: #008000\">\"errorDescription\"</span>: null, \n",
       "<span style=\"color: #008000; text-decoration-color: #008000\">\"lastDeviceResyncStartTime\"</span>: <span style=\"color: #008000; text-decoration-color: #008000\">\"\"</span>, <span style=\"color: #008000; text-decoration-color: #008000\">\"lineCardCount\"</span>: <span style=\"color: #008000; text-decoration-color: #008000\">\"0\"</span>, <span style=\"color: #008000; text-decoration-color: #008000\">\"lineCardId\"</span>: <span style=\"color: #008000; text-decoration-color: #008000\">\"\"</span>, <span style=\"color: #008000; text-decoration-color: #008000\">\"managedAtleastOnce\"</span>: false, <span style=\"color: #008000; text-decoration-color: #008000\">\"tagCount\"</span>: \n",
       "<span style=\"color: #008000; text-decoration-color: #008000\">\"0\"</span>, <span style=\"color: #008000; text-decoration-color: #008000\">\"tunnelUdpPort\"</span>: null, <span style=\"color: #008000; text-decoration-color: #008000\">\"uptimeSeconds\"</span>: <span style=\"color: #008080; text-decoration-color: #008080; font-weight: bold\">14800</span>, <span style=\"color: #008000; text-decoration-color: #008000\">\"vendor\"</span>: <span style=\"color: #008000; text-decoration-color: #008000\">\"NA\"</span>, <span style=\"color: #008000; text-decoration-color: #008000\">\"waasDeviceMode\"</span>: null, <span style=\"color: #008000; text-decoration-color: #008000\">\"location\"</span>: null, \n",
       "<span style=\"color: #008000; text-decoration-color: #008000\">\"role\"</span>: <span style=\"color: #008000; text-decoration-color: #008000\">\"ACCESS\"</span>, <span style=\"color: #008000; text-decoration-color: #008000\">\"instanceUuid\"</span>: <span style=\"color: #008000; text-decoration-color: #008000\">\"fef560c5-7cd0-4373-a5a9-c86cd5ae6929\"</span>, <span style=\"color: #008000; text-decoration-color: #008000\">\"instanceTenantId\"</span>: \n",
       "<span style=\"color: #008000; text-decoration-color: #008000\">\"65fc79a637e66b3fb5728b9f\"</span>, <span style=\"color: #008000; text-decoration-color: #008000\">\"id\"</span>: <span style=\"color: #008000; text-decoration-color: #008000\">\"fef560c5-7cd0-4373-a5a9-c86cd5ae6929\"</span><span style=\"font-weight: bold\">}</span>, <span style=\"font-weight: bold\">{</span><span style=\"color: #008000; text-decoration-color: #008000\">\"memorySize\"</span>: <span style=\"color: #008000; text-decoration-color: #008000\">\"NA\"</span>, <span style=\"color: #008000; text-decoration-color: #008000\">\"description\"</span>: \n",
       "<span style=\"color: #008000; text-decoration-color: #008000\">\"Cisco IOS Software [Cupertino], C9800 Software (C9800_IOSXE-K9), Version 17.9.5, RELEASE SOFTWARE (fc1) Technical </span>\n",
       "<span style=\"color: #008000; text-decoration-color: #008000\">Support: http://www.cisco.com/techsupport Copyright (c) 1986-2024 by Cisco Systems, Inc. Compiled Tue 30-Jan-24 </span>\n",
       "<span style=\"color: #008000; text-decoration-color: #008000\">15:36 by mcpre netconf enabled\"</span>, <span style=\"color: #008000; text-decoration-color: #008000\">\"type\"</span>: <span style=\"color: #008000; text-decoration-color: #008000\">\"Cisco Catalyst 9800-40 Wireless Controller\"</span>, <span style=\"color: #008000; text-decoration-color: #008000\">\"lastUpdateTime\"</span>: \n",
       "<span style=\"color: #008080; text-decoration-color: #008080; font-weight: bold\">1755179902768</span>, <span style=\"color: #008000; text-decoration-color: #008000\">\"upTime\"</span>: <span style=\"color: #008000; text-decoration-color: #008000\">\"20 days, 20:57:11.80\"</span>, <span style=\"color: #008000; text-decoration-color: #008000\">\"macAddress\"</span>: null, <span style=\"color: #008000; text-decoration-color: #008000\">\"deviceSupportLevel\"</span>: <span style=\"color: #008000; text-decoration-color: #008000\">\"Supported\"</span>, \n",
       "<span style=\"color: #008000; text-decoration-color: #008000\">\"softwareType\"</span>: <span style=\"color: #008000; text-decoration-color: #008000\">\"IOS-XE\"</span>, <span style=\"color: #008000; text-decoration-color: #008000\">\"softwareVersion\"</span>: <span style=\"color: #008000; text-decoration-color: #008000\">\"17.9.5\"</span>, <span style=\"color: #008000; text-decoration-color: #008000\">\"serialNumber\"</span>: <span style=\"color: #008000; text-decoration-color: #008000\">\"TTM234806C7\"</span>, <span style=\"color: #008000; text-decoration-color: #008000\">\"inventoryStatusDetail\"</span>: \n",
       "<span style=\"color: #008000; text-decoration-color: #008000\">\"&lt;status&gt;&lt;general code=\\\"SNMP_AUTH_ERROR\\\"/&gt;&lt;/status&gt;\"</span>, <span style=\"color: #008000; text-decoration-color: #008000\">\"syncRequestedByApp\"</span>: <span style=\"color: #008000; text-decoration-color: #008000\">\"\"</span>, <span style=\"color: #008000; text-decoration-color: #008000\">\"collectionInterval\"</span>: <span style=\"color: #008000; text-decoration-color: #008000\">\"Global </span>\n",
       "<span style=\"color: #008000; text-decoration-color: #008000\">Default\"</span>, <span style=\"color: #008000; text-decoration-color: #008000\">\"dnsResolvedManagementAddress\"</span>: <span style=\"color: #008000; text-decoration-color: #008000\">\"10.88.231.101\"</span>, <span style=\"color: #008000; text-decoration-color: #008000\">\"lastManagedResyncReasons\"</span>: null, <span style=\"color: #008000; text-decoration-color: #008000\">\"managementState\"</span>: \n",
       "<span style=\"color: #008000; text-decoration-color: #008000\">\"Managed\"</span>, <span style=\"color: #008000; text-decoration-color: #008000\">\"pendingSyncRequestsCount\"</span>: <span style=\"color: #008000; text-decoration-color: #008000\">\"0\"</span>, <span style=\"color: #008000; text-decoration-color: #008000\">\"reasonsForDeviceResync\"</span>: <span style=\"color: #008000; text-decoration-color: #008000\">\"Periodic\"</span>, <span style=\"color: #008000; text-decoration-color: #008000\">\"reasonsForPendingSyncRequests\"</span>: \n",
       "<span style=\"color: #008000; text-decoration-color: #008000\">\"\"</span>, <span style=\"color: #008000; text-decoration-color: #008000\">\"roleSource\"</span>: <span style=\"color: #008000; text-decoration-color: #008000\">\"AUTO\"</span>, <span style=\"color: #008000; text-decoration-color: #008000\">\"lastUpdated\"</span>: <span style=\"color: #008000; text-decoration-color: #008000\">\"2025-08-14 13:58:22\"</span>, <span style=\"color: #008000; text-decoration-color: #008000\">\"reachabilityStatus\"</span>: <span style=\"color: #008000; text-decoration-color: #008000\">\"Ping Reachable\"</span>, <span style=\"color: #008000; text-decoration-color: #008000\">\"series\"</span>: \n",
       "<span style=\"color: #008000; text-decoration-color: #008000\">\"Cisco Catalyst 9800 Series Wireless Controllers\"</span>, <span style=\"color: #008000; text-decoration-color: #008000\">\"snmpContact\"</span>: <span style=\"color: #008000; text-decoration-color: #008000\">\"\"</span>, <span style=\"color: #008000; text-decoration-color: #008000\">\"snmpLocation\"</span>: <span style=\"color: #008000; text-decoration-color: #008000\">\"\"</span>, <span style=\"color: #008000; text-decoration-color: #008000\">\"bootDateTime\"</span>: \n",
       "<span style=\"color: #008000; text-decoration-color: #008000\">\"2025-07-24 17:01:22\"</span>, <span style=\"color: #008000; text-decoration-color: #008000\">\"apManagerInterfaceIp\"</span>: <span style=\"color: #008000; text-decoration-color: #008000\">\"\"</span>, <span style=\"color: #008000; text-decoration-color: #008000\">\"collectionStatus\"</span>: <span style=\"color: #008000; text-decoration-color: #008000\">\"Partial Collection Failure\"</span>, <span style=\"color: #008000; text-decoration-color: #008000\">\"family\"</span>: \n",
       "<span style=\"color: #008000; text-decoration-color: #008000\">\"Wireless Controller\"</span>, <span style=\"color: #008000; text-decoration-color: #008000\">\"hostname\"</span>: <span style=\"color: #008000; text-decoration-color: #008000\">\"rcdn-srp-c9800-05.cisco.com\"</span>, <span style=\"color: #008000; text-decoration-color: #008000\">\"locationName\"</span>: null, <span style=\"color: #008000; text-decoration-color: #008000\">\"managementIpAddress\"</span>: \n",
       "<span style=\"color: #008000; text-decoration-color: #008000\">\"10.88.231.101\"</span>, <span style=\"color: #008000; text-decoration-color: #008000\">\"platformId\"</span>: <span style=\"color: #008000; text-decoration-color: #008000\">\"C9800-40-K9\"</span>, <span style=\"color: #008000; text-decoration-color: #008000\">\"reachabilityFailureReason\"</span>: <span style=\"color: #008000; text-decoration-color: #008000\">\"SNMP User Authentication Failed\"</span>, \n",
       "<span style=\"color: #008000; text-decoration-color: #008000\">\"interfaceCount\"</span>: <span style=\"color: #008000; text-decoration-color: #008000\">\"0\"</span>, <span style=\"color: #008000; text-decoration-color: #008000\">\"associatedWlcIp\"</span>: <span style=\"color: #008000; text-decoration-color: #008000\">\"\"</span>, <span style=\"color: #008000; text-decoration-color: #008000\">\"apEthernetMacAddress\"</span>: null, <span style=\"color: #008000; text-decoration-color: #008000\">\"errorCode\"</span>: <span style=\"color: #008000; text-decoration-color: #008000\">\"SNMP-AUTH-ERROR\"</span>, \n",
       "<span style=\"color: #008000; text-decoration-color: #008000\">\"errorDescription\"</span>: <span style=\"color: #008000; text-decoration-color: #008000\">\"NCIM12006: Device could not be discovered using SNMP. Please ensure correct credentials are </span>\n",
       "<span style=\"color: #008000; text-decoration-color: #008000\">provided in global credentials or in discovery. You can update the device credentials using update credentials </span>\n",
       "<span style=\"color: #008000; text-decoration-color: #008000\">option.\"</span>, <span style=\"color: #008000; text-decoration-color: #008000\">\"lastDeviceResyncStartTime\"</span>: <span style=\"color: #008000; text-decoration-color: #008000\">\"2025-08-14 13:58:20\"</span>, <span style=\"color: #008000; text-decoration-color: #008000\">\"lineCardCount\"</span>: <span style=\"color: #008000; text-decoration-color: #008000\">\"0\"</span>, <span style=\"color: #008000; text-decoration-color: #008000\">\"lineCardId\"</span>: <span style=\"color: #008000; text-decoration-color: #008000\">\"\"</span>, \n",
       "<span style=\"color: #008000; text-decoration-color: #008000\">\"managedAtleastOnce\"</span>: true, <span style=\"color: #008000; text-decoration-color: #008000\">\"tagCount\"</span>: <span style=\"color: #008000; text-decoration-color: #008000\">\"0\"</span>, <span style=\"color: #008000; text-decoration-color: #008000\">\"tunnelUdpPort\"</span>: null, <span style=\"color: #008000; text-decoration-color: #008000\">\"uptimeSeconds\"</span>: <span style=\"color: #008080; text-decoration-color: #008080; font-weight: bold\">1816040</span>, <span style=\"color: #008000; text-decoration-color: #008000\">\"vendor\"</span>: <span style=\"color: #008000; text-decoration-color: #008000\">\"Cisco\"</span>, \n",
       "<span style=\"color: #008000; text-decoration-color: #008000\">\"waasDeviceMode\"</span>: null, <span style=\"color: #008000; text-decoration-color: #008000\">\"location\"</span>: null, <span style=\"color: #008000; text-decoration-color: #008000\">\"role\"</span>: <span style=\"color: #008000; text-decoration-color: #008000\">\"ACCESS\"</span>, <span style=\"color: #008000; text-decoration-color: #008000\">\"instanceUuid\"</span>: <span style=\"color: #008000; text-decoration-color: #008000\">\"aaa9ddb0-c314-4843-a22f-c14559b81e1c\"</span>,\n",
       "<span style=\"color: #008000; text-decoration-color: #008000\">\"instanceTenantId\"</span>: <span style=\"color: #008000; text-decoration-color: #008000\">\"65fc79a637e66b3fb5728b9f\"</span>, <span style=\"color: #008000; text-decoration-color: #008000\">\"id\"</span>: <span style=\"color: #008000; text-decoration-color: #008000\">\"aaa9ddb0-c314-4843-a22f-c14559b81e1c\"</span><span style=\"font-weight: bold\">}]</span>\n",
       "</pre>\n"
      ],
      "text/plain": [
       "================================= Tool Message =================================\n",
       "Name: get_devices\n",
       "\n",
       "\u001b[1m[\u001b[0m\u001b[1m{\u001b[0m\u001b[32m\"memorySize\"\u001b[0m: \u001b[32m\"NA\"\u001b[0m, \u001b[32m\"description\"\u001b[0m: null, \u001b[32m\"type\"\u001b[0m: \u001b[32m\"Cisco Catalyst 9130AXE Unified Access Point\"\u001b[0m, \u001b[32m\"lastUpdateTime\"\u001b[0m:\n",
       "\u001b[1;36m1755179902768\u001b[0m, \u001b[32m\"upTime\"\u001b[0m: \u001b[32m\"00:36:20.980\"\u001b[0m, \u001b[32m\"macAddress\"\u001b[0m: \u001b[32m\"a4:b2:39:02:d8:40\"\u001b[0m, \u001b[32m\"deviceSupportLevel\"\u001b[0m: \u001b[32m\"Supported\"\u001b[0m, \n",
       "\u001b[32m\"softwareType\"\u001b[0m: null, \u001b[32m\"softwareVersion\"\u001b[0m: \u001b[32m\"17.9.5.47\"\u001b[0m, \u001b[32m\"serialNumber\"\u001b[0m: \u001b[32m\"FJC2410184B\"\u001b[0m, \u001b[32m\"inventoryStatusDetail\"\u001b[0m: \u001b[32m\"NA\"\u001b[0m,\n",
       "\u001b[32m\"syncRequestedByApp\"\u001b[0m: \u001b[32m\"\"\u001b[0m, \u001b[32m\"collectionInterval\"\u001b[0m: \u001b[32m\"NA\"\u001b[0m, \u001b[32m\"dnsResolvedManagementAddress\"\u001b[0m: \u001b[32m\"\"\u001b[0m, \n",
       "\u001b[32m\"lastManagedResyncReasons\"\u001b[0m: \u001b[32m\"\"\u001b[0m, \u001b[32m\"managementState\"\u001b[0m: \u001b[32m\"Managed\"\u001b[0m, \u001b[32m\"pendingSyncRequestsCount\"\u001b[0m: \u001b[32m\"0\"\u001b[0m, \n",
       "\u001b[32m\"reasonsForDeviceResync\"\u001b[0m: \u001b[32m\"\"\u001b[0m, \u001b[32m\"reasonsForPendingSyncRequests\"\u001b[0m: \u001b[32m\"\"\u001b[0m, \u001b[32m\"roleSource\"\u001b[0m: \u001b[32m\"AUTO\"\u001b[0m, \u001b[32m\"lastUpdated\"\u001b[0m: \u001b[32m\"2025-08-14\u001b[0m\n",
       "\u001b[32m13:58:22\"\u001b[0m, \u001b[32m\"reachabilityStatus\"\u001b[0m: \u001b[32m\"Reachable\"\u001b[0m, \u001b[32m\"series\"\u001b[0m: \u001b[32m\"Cisco Catalyst 9130AXE Series Unified Access Points\"\u001b[0m, \n",
       "\u001b[32m\"snmpContact\"\u001b[0m: \u001b[32m\"\"\u001b[0m, \u001b[32m\"snmpLocation\"\u001b[0m: \u001b[32m\"default location\"\u001b[0m, \u001b[32m\"bootDateTime\"\u001b[0m: null, \u001b[32m\"apManagerInterfaceIp\"\u001b[0m: \n",
       "\u001b[32m\"100.78.53.101\"\u001b[0m, \u001b[32m\"collectionStatus\"\u001b[0m: \u001b[32m\"Managed\"\u001b[0m, \u001b[32m\"family\"\u001b[0m: \u001b[32m\"Unified AP\"\u001b[0m, \u001b[32m\"hostname\"\u001b[0m: \u001b[32m\"rcdn-srp-9130E.2804\"\u001b[0m, \n",
       "\u001b[32m\"locationName\"\u001b[0m: null, \u001b[32m\"managementIpAddress\"\u001b[0m: \u001b[32m\"100.78.60.66\"\u001b[0m, \u001b[32m\"platformId\"\u001b[0m: \u001b[32m\"C9130AXE-B\"\u001b[0m, \n",
       "\u001b[32m\"reachabilityFailureReason\"\u001b[0m: \u001b[32m\"NA\"\u001b[0m, \u001b[32m\"interfaceCount\"\u001b[0m: \u001b[32m\"0\"\u001b[0m, \u001b[32m\"associatedWlcIp\"\u001b[0m: \u001b[32m\"10.88.231.101\"\u001b[0m, \n",
       "\u001b[32m\"apEthernetMacAddress\"\u001b[0m: \u001b[32m\"6c:71:0d:f4:28:04\"\u001b[0m, \u001b[32m\"errorCode\"\u001b[0m: \u001b[32m\"null\"\u001b[0m, \u001b[32m\"errorDescription\"\u001b[0m: null, \n",
       "\u001b[32m\"lastDeviceResyncStartTime\"\u001b[0m: \u001b[32m\"\"\u001b[0m, \u001b[32m\"lineCardCount\"\u001b[0m: \u001b[32m\"0\"\u001b[0m, \u001b[32m\"lineCardId\"\u001b[0m: \u001b[32m\"\"\u001b[0m, \u001b[32m\"managedAtleastOnce\"\u001b[0m: false, \u001b[32m\"tagCount\"\u001b[0m: \n",
       "\u001b[32m\"0\"\u001b[0m, \u001b[32m\"tunnelUdpPort\"\u001b[0m: null, \u001b[32m\"uptimeSeconds\"\u001b[0m: \u001b[1;36m14800\u001b[0m, \u001b[32m\"vendor\"\u001b[0m: \u001b[32m\"NA\"\u001b[0m, \u001b[32m\"waasDeviceMode\"\u001b[0m: null, \u001b[32m\"location\"\u001b[0m: null, \n",
       "\u001b[32m\"role\"\u001b[0m: \u001b[32m\"ACCESS\"\u001b[0m, \u001b[32m\"instanceUuid\"\u001b[0m: \u001b[32m\"fef560c5-7cd0-4373-a5a9-c86cd5ae6929\"\u001b[0m, \u001b[32m\"instanceTenantId\"\u001b[0m: \n",
       "\u001b[32m\"65fc79a637e66b3fb5728b9f\"\u001b[0m, \u001b[32m\"id\"\u001b[0m: \u001b[32m\"fef560c5-7cd0-4373-a5a9-c86cd5ae6929\"\u001b[0m\u001b[1m}\u001b[0m, \u001b[1m{\u001b[0m\u001b[32m\"memorySize\"\u001b[0m: \u001b[32m\"NA\"\u001b[0m, \u001b[32m\"description\"\u001b[0m: \n",
       "\u001b[32m\"Cisco IOS Software \u001b[0m\u001b[32m[\u001b[0m\u001b[32mCupertino\u001b[0m\u001b[32m]\u001b[0m\u001b[32m, C9800 Software \u001b[0m\u001b[32m(\u001b[0m\u001b[32mC9800_IOSXE-K9\u001b[0m\u001b[32m)\u001b[0m\u001b[32m, Version 17.9.5, RELEASE SOFTWARE \u001b[0m\u001b[32m(\u001b[0m\u001b[32mfc1\u001b[0m\u001b[32m)\u001b[0m\u001b[32m Technical \u001b[0m\n",
       "\u001b[32mSupport: http://www.cisco.com/techsupport Copyright \u001b[0m\u001b[32m(\u001b[0m\u001b[32mc\u001b[0m\u001b[32m)\u001b[0m\u001b[32m 1986-2024 by Cisco Systems, Inc. Compiled Tue 30-Jan-24 \u001b[0m\n",
       "\u001b[32m15:36 by mcpre netconf enabled\"\u001b[0m, \u001b[32m\"type\"\u001b[0m: \u001b[32m\"Cisco Catalyst 9800-40 Wireless Controller\"\u001b[0m, \u001b[32m\"lastUpdateTime\"\u001b[0m: \n",
       "\u001b[1;36m1755179902768\u001b[0m, \u001b[32m\"upTime\"\u001b[0m: \u001b[32m\"20 days, 20:57:11.80\"\u001b[0m, \u001b[32m\"macAddress\"\u001b[0m: null, \u001b[32m\"deviceSupportLevel\"\u001b[0m: \u001b[32m\"Supported\"\u001b[0m, \n",
       "\u001b[32m\"softwareType\"\u001b[0m: \u001b[32m\"IOS-XE\"\u001b[0m, \u001b[32m\"softwareVersion\"\u001b[0m: \u001b[32m\"17.9.5\"\u001b[0m, \u001b[32m\"serialNumber\"\u001b[0m: \u001b[32m\"TTM234806C7\"\u001b[0m, \u001b[32m\"inventoryStatusDetail\"\u001b[0m: \n",
       "\u001b[32m\"\u001b[0m\u001b[32m<\u001b[0m\u001b[32mstatus\u001b[0m\u001b[32m><general \u001b[0m\u001b[32mcode\u001b[0m\u001b[32m=\\\"SNMP_AUTH_ERROR\\\"/></status\u001b[0m\u001b[32m>\u001b[0m\u001b[32m\"\u001b[0m, \u001b[32m\"syncRequestedByApp\"\u001b[0m: \u001b[32m\"\"\u001b[0m, \u001b[32m\"collectionInterval\"\u001b[0m: \u001b[32m\"Global \u001b[0m\n",
       "\u001b[32mDefault\"\u001b[0m, \u001b[32m\"dnsResolvedManagementAddress\"\u001b[0m: \u001b[32m\"10.88.231.101\"\u001b[0m, \u001b[32m\"lastManagedResyncReasons\"\u001b[0m: null, \u001b[32m\"managementState\"\u001b[0m: \n",
       "\u001b[32m\"Managed\"\u001b[0m, \u001b[32m\"pendingSyncRequestsCount\"\u001b[0m: \u001b[32m\"0\"\u001b[0m, \u001b[32m\"reasonsForDeviceResync\"\u001b[0m: \u001b[32m\"Periodic\"\u001b[0m, \u001b[32m\"reasonsForPendingSyncRequests\"\u001b[0m: \n",
       "\u001b[32m\"\"\u001b[0m, \u001b[32m\"roleSource\"\u001b[0m: \u001b[32m\"AUTO\"\u001b[0m, \u001b[32m\"lastUpdated\"\u001b[0m: \u001b[32m\"2025-08-14 13:58:22\"\u001b[0m, \u001b[32m\"reachabilityStatus\"\u001b[0m: \u001b[32m\"Ping Reachable\"\u001b[0m, \u001b[32m\"series\"\u001b[0m: \n",
       "\u001b[32m\"Cisco Catalyst 9800 Series Wireless Controllers\"\u001b[0m, \u001b[32m\"snmpContact\"\u001b[0m: \u001b[32m\"\"\u001b[0m, \u001b[32m\"snmpLocation\"\u001b[0m: \u001b[32m\"\"\u001b[0m, \u001b[32m\"bootDateTime\"\u001b[0m: \n",
       "\u001b[32m\"2025-07-24 17:01:22\"\u001b[0m, \u001b[32m\"apManagerInterfaceIp\"\u001b[0m: \u001b[32m\"\"\u001b[0m, \u001b[32m\"collectionStatus\"\u001b[0m: \u001b[32m\"Partial Collection Failure\"\u001b[0m, \u001b[32m\"family\"\u001b[0m: \n",
       "\u001b[32m\"Wireless Controller\"\u001b[0m, \u001b[32m\"hostname\"\u001b[0m: \u001b[32m\"rcdn-srp-c9800-05.cisco.com\"\u001b[0m, \u001b[32m\"locationName\"\u001b[0m: null, \u001b[32m\"managementIpAddress\"\u001b[0m: \n",
       "\u001b[32m\"10.88.231.101\"\u001b[0m, \u001b[32m\"platformId\"\u001b[0m: \u001b[32m\"C9800-40-K9\"\u001b[0m, \u001b[32m\"reachabilityFailureReason\"\u001b[0m: \u001b[32m\"SNMP User Authentication Failed\"\u001b[0m, \n",
       "\u001b[32m\"interfaceCount\"\u001b[0m: \u001b[32m\"0\"\u001b[0m, \u001b[32m\"associatedWlcIp\"\u001b[0m: \u001b[32m\"\"\u001b[0m, \u001b[32m\"apEthernetMacAddress\"\u001b[0m: null, \u001b[32m\"errorCode\"\u001b[0m: \u001b[32m\"SNMP-AUTH-ERROR\"\u001b[0m, \n",
       "\u001b[32m\"errorDescription\"\u001b[0m: \u001b[32m\"NCIM12006: Device could not be discovered using SNMP. Please ensure correct credentials are \u001b[0m\n",
       "\u001b[32mprovided in global credentials or in discovery. You can update the device credentials using update credentials \u001b[0m\n",
       "\u001b[32moption.\"\u001b[0m, \u001b[32m\"lastDeviceResyncStartTime\"\u001b[0m: \u001b[32m\"2025-08-14 13:58:20\"\u001b[0m, \u001b[32m\"lineCardCount\"\u001b[0m: \u001b[32m\"0\"\u001b[0m, \u001b[32m\"lineCardId\"\u001b[0m: \u001b[32m\"\"\u001b[0m, \n",
       "\u001b[32m\"managedAtleastOnce\"\u001b[0m: true, \u001b[32m\"tagCount\"\u001b[0m: \u001b[32m\"0\"\u001b[0m, \u001b[32m\"tunnelUdpPort\"\u001b[0m: null, \u001b[32m\"uptimeSeconds\"\u001b[0m: \u001b[1;36m1816040\u001b[0m, \u001b[32m\"vendor\"\u001b[0m: \u001b[32m\"Cisco\"\u001b[0m, \n",
       "\u001b[32m\"waasDeviceMode\"\u001b[0m: null, \u001b[32m\"location\"\u001b[0m: null, \u001b[32m\"role\"\u001b[0m: \u001b[32m\"ACCESS\"\u001b[0m, \u001b[32m\"instanceUuid\"\u001b[0m: \u001b[32m\"aaa9ddb0-c314-4843-a22f-c14559b81e1c\"\u001b[0m,\n",
       "\u001b[32m\"instanceTenantId\"\u001b[0m: \u001b[32m\"65fc79a637e66b3fb5728b9f\"\u001b[0m, \u001b[32m\"id\"\u001b[0m: \u001b[32m\"aaa9ddb0-c314-4843-a22f-c14559b81e1c\"\u001b[0m\u001b[1m}\u001b[0m\u001b[1m]\u001b[0m\n"
      ]
     },
     "metadata": {},
     "output_type": "display_data"
    },
    {
     "data": {
      "text/html": [
       "<pre style=\"white-space:pre;overflow-x:auto;line-height:normal;font-family:Menlo,'DejaVu Sans Mono',consolas,'Courier New',monospace\">================================== Ai Message ==================================\n",
       "\n",
       "Now I'll create a CSV file with the device information you requested. I'll include the hostname, serial number, and\n",
       "software version for each device.\n",
       "Tool Calls:\n",
       "  save_csv <span style=\"font-weight: bold\">(</span>toolu_bdrk_012w5W9y5tt9WmgxUK2nKgf8<span style=\"font-weight: bold\">)</span>\n",
       " Call ID: toolu_bdrk_012w5W9y5tt9WmgxUK2nKgf8\n",
       "  Args:\n",
       "    csv_string: Hostname,Serial Number,Software Version\n",
       "rcdn-srp-9130E.<span style=\"color: #008080; text-decoration-color: #008080; font-weight: bold\">2804</span>,FJC2410184B,<span style=\"color: #00ff00; text-decoration-color: #00ff00; font-weight: bold\">17.9.5.47</span>\n",
       "rcdn-srp-c9800-<span style=\"color: #008080; text-decoration-color: #008080; font-weight: bold\">05.</span>cisco.com,TTM234806C7,<span style=\"color: #008080; text-decoration-color: #008080; font-weight: bold\">17.9</span>.<span style=\"color: #008080; text-decoration-color: #008080; font-weight: bold\">5</span>\n",
       "    filename: device_inventory.csv\n",
       "</pre>\n"
      ],
      "text/plain": [
       "================================== Ai Message ==================================\n",
       "\n",
       "Now I'll create a CSV file with the device information you requested. I'll include the hostname, serial number, and\n",
       "software version for each device.\n",
       "Tool Calls:\n",
       "  save_csv \u001b[1m(\u001b[0mtoolu_bdrk_012w5W9y5tt9WmgxUK2nKgf8\u001b[1m)\u001b[0m\n",
       " Call ID: toolu_bdrk_012w5W9y5tt9WmgxUK2nKgf8\n",
       "  Args:\n",
       "    csv_string: Hostname,Serial Number,Software Version\n",
       "rcdn-srp-9130E.\u001b[1;36m2804\u001b[0m,FJC2410184B,\u001b[1;92m17.9.5.47\u001b[0m\n",
       "rcdn-srp-c9800-\u001b[1;36m05.\u001b[0mcisco.com,TTM234806C7,\u001b[1;36m17.9\u001b[0m.\u001b[1;36m5\u001b[0m\n",
       "    filename: device_inventory.csv\n"
      ]
     },
     "metadata": {},
     "output_type": "display_data"
    },
    {
     "data": {
      "text/html": [
       "<pre style=\"white-space:pre;overflow-x:auto;line-height:normal;font-family:Menlo,'DejaVu Sans Mono',consolas,'Courier New',monospace\">================================= Tool Message =================================\n",
       "Name: save_csv\n",
       "\n",
       "File device_inventory.csv saved\n",
       "</pre>\n"
      ],
      "text/plain": [
       "================================= Tool Message =================================\n",
       "Name: save_csv\n",
       "\n",
       "File device_inventory.csv saved\n"
      ]
     },
     "metadata": {},
     "output_type": "display_data"
    },
    {
     "data": {
      "text/html": [
       "<pre style=\"white-space:pre;overflow-x:auto;line-height:normal;font-family:Menlo,'DejaVu Sans Mono',consolas,'Courier New',monospace\">================================== Ai Message ==================================\n",
       "\n",
       "I've successfully created a CSV file named <span style=\"color: #008000; text-decoration-color: #008000\">\"device_inventory.csv\"</span> with the device information you requested. The \n",
       "file contains the following data:\n",
       "\n",
       "<span style=\"color: #008080; text-decoration-color: #008080; font-weight: bold\">1</span>. First device:\n",
       "   - Hostname: rcdn-srp-9130E.<span style=\"color: #008080; text-decoration-color: #008080; font-weight: bold\">2804</span>\n",
       "   - Serial Number: FJC2410184B\n",
       "   - Software Version: <span style=\"color: #00ff00; text-decoration-color: #00ff00; font-weight: bold\">17.9.5.47</span>\n",
       "\n",
       "<span style=\"color: #008080; text-decoration-color: #008080; font-weight: bold\">2</span>. Second device:\n",
       "   - Hostname: rcdn-srp-c9800-<span style=\"color: #008080; text-decoration-color: #008080; font-weight: bold\">05.</span>cisco.com\n",
       "   - Serial Number: TTM234806C7\n",
       "   - Software Version: <span style=\"color: #008080; text-decoration-color: #008080; font-weight: bold\">17.9</span>.<span style=\"color: #008080; text-decoration-color: #008080; font-weight: bold\">5</span>\n",
       "\n",
       "The CSV file has been saved and is ready for your use. Is there anything else you'd like to know about these \n",
       "devices or any other information you'd like to include in the CSV file?\n",
       "</pre>\n"
      ],
      "text/plain": [
       "================================== Ai Message ==================================\n",
       "\n",
       "I've successfully created a CSV file named \u001b[32m\"device_inventory.csv\"\u001b[0m with the device information you requested. The \n",
       "file contains the following data:\n",
       "\n",
       "\u001b[1;36m1\u001b[0m. First device:\n",
       "   - Hostname: rcdn-srp-9130E.\u001b[1;36m2804\u001b[0m\n",
       "   - Serial Number: FJC2410184B\n",
       "   - Software Version: \u001b[1;92m17.9.5.47\u001b[0m\n",
       "\n",
       "\u001b[1;36m2\u001b[0m. Second device:\n",
       "   - Hostname: rcdn-srp-c9800-\u001b[1;36m05.\u001b[0mcisco.com\n",
       "   - Serial Number: TTM234806C7\n",
       "   - Software Version: \u001b[1;36m17.9\u001b[0m.\u001b[1;36m5\u001b[0m\n",
       "\n",
       "The CSV file has been saved and is ready for your use. Is there anything else you'd like to know about these \n",
       "devices or any other information you'd like to include in the CSV file?\n"
      ]
     },
     "metadata": {},
     "output_type": "display_data"
    }
   ],
   "source": [
    "import rich\n",
    "from langchain_core.messages import HumanMessage\n",
    "\n",
    "initial_message = HumanMessage(\n",
    "    content=\"Generate a CSV file with the list of devices. List the hostname, serial number and SW version\"\n",
    ")\n",
    "\n",
    "for event in dna_center_agent.stream(\n",
    "    {\"messages\": [initial_message]},\n",
    "    stream_mode=\"updates\",\n",
    "):\n",
    "    for _, message_or_messages in event.items():\n",
    "        if isinstance(message_or_messages[\"messages\"], list):\n",
    "            for message in message_or_messages[\"messages\"]:\n",
    "                rich.print(message.pretty_repr())\n",
    "        else:\n",
    "            rich.print(message_or_messages[\"messages\"].pretty_repr())"
   ]
  },
  {
   "cell_type": "code",
   "execution_count": null,
   "id": "823eaccb-eee4-4e29-ad82-30d180d10281",
   "metadata": {},
   "outputs": [],
   "source": []
  }
 ],
 "metadata": {
  "kernelspec": {
   "display_name": "Python 3 (ipykernel)",
   "language": "python",
   "name": "python3"
  },
  "language_info": {
   "codemirror_mode": {
    "name": "ipython",
    "version": 3
   },
   "file_extension": ".py",
   "mimetype": "text/x-python",
   "name": "python",
   "nbconvert_exporter": "python",
   "pygments_lexer": "ipython3",
   "version": "3.11.5"
  }
 },
 "nbformat": 4,
 "nbformat_minor": 5
}
